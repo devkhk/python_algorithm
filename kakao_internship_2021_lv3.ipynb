{
 "cells": [
  {
   "cell_type": "code",
   "execution_count": 117,
   "metadata": {},
   "outputs": [],
   "source": [
    "from collections import deque\n",
    "def solution(n, k, cmd):\n",
    "    # n : 리스트 개수\n",
    "    # cmd : 커맨드 리스트\n",
    "    # k : 현재 위치\n",
    "    answer = [\"O\"] * n\n",
    "    \n",
    "    exel = list(range(n))\n",
    "    \n",
    "    curr = [k, exel[k]] # (index, 값)\n",
    "    removed = deque()\n",
    "\n",
    "    count = 0\n",
    "    print(\"시작\")\n",
    "    print(exel, curr, removed)\n",
    "    # 커맨드에 따른 실행\n",
    "    for d in cmd:\n",
    "        count += 1\n",
    "        print(count)\n",
    "        \n",
    "        if d[0] == \"U\":\n",
    "            if curr[0] - int(d[2]) < 0:\n",
    "                curr[0] = 0\n",
    "            else:\n",
    "                curr[0] -= int(d[2])\n",
    "            curr[1] = exel[curr[0]]\n",
    "            print(f\"-{d[2]}이동 \",exel, curr, removed)\n",
    "        elif d[0] == \"D\":   \n",
    "            if curr[0] + int(d[2]) >= len(exel):\n",
    "                curr[0] = len(exel) - 1\n",
    "            else:\n",
    "                curr[0] += int(d[2])\n",
    "            curr[1] = exel[curr[0]]\n",
    "            print(f\"+{d[2]}이동 \",exel, curr, removed)\n",
    "        elif d[0] == \"C\":\n",
    "            # 삭제 리스트에 현재 index, 삭제된 숫자를 저장\n",
    "            removed.append((curr[0], curr[1]))\n",
    "            del exel[curr[0]]\n",
    "\n",
    "            # 주의. 맨 마지막 위치일 경우\n",
    "            if curr[0] >= len(exel):\n",
    "                curr[0] = len(exel)-1\n",
    "\n",
    "            curr[1] = exel[curr[0]]\n",
    "            print(\"삭제\",exel, curr, removed)\n",
    "\n",
    "        elif d[0] == \"Z\":\n",
    "            # 실행 취소인 경우 가장 마지막에 추가된 삭제 넘버를 추가한다.\n",
    "            i, n = removed.pop()\n",
    "            \n",
    "            # 범위 아웃일 경우\n",
    "            if i >= len(exel):\n",
    "                exel.append(n)\n",
    "            # 그 외는 모두 인덱스와 숫자가 같을 수 없음\n",
    "            else:\n",
    "                split_front = exel[:i]\n",
    "                split_back = exel[i:]\n",
    "                split_front.append(n)\n",
    "\n",
    "                exel = split_front + split_back\n",
    "            \n",
    "            # 위치, 값\n",
    "            curr[0] = exel.index(curr[1])\n",
    "            print(\"복원\",exel, curr, removed)\n",
    "\n",
    "\n",
    "    # 기존과 비교 ???\n",
    "    # 남은 삭제 위치 활용\n",
    "    while removed :\n",
    "        i , n = removed.pop()\n",
    "        answer[n] = \"X\"\n",
    "\n",
    "    return ''.join(answer)"
   ]
  },
  {
   "cell_type": "code",
   "execution_count": null,
   "metadata": {},
   "outputs": [
    {
     "name": "stdout",
     "output_type": "stream",
     "text": [
      "시작\n",
      "[0, 1, 2, 3, 4, 5, 6, 7] [2, 2] deque([])\n",
      "1\n",
      "+2이동  [0, 1, 2, 3, 4, 5, 6, 7] [4, 4] deque([])\n",
      "2\n",
      "삭제 [0, 1, 2, 3, 5, 6, 7] [4, 5] deque([(4, 4)])\n",
      "3\n",
      "-3이동  [0, 1, 2, 3, 5, 6, 7] [1, 1] deque([(4, 4)])\n",
      "4\n",
      "삭제 [0, 2, 3, 5, 6, 7] [1, 2] deque([(4, 4), (1, 1)])\n",
      "5\n",
      "+4이동  [0, 2, 3, 5, 6, 7] [5, 7] deque([(4, 4), (1, 1)])\n",
      "6\n",
      "삭제 [0, 2, 3, 5, 6] [4, 6] deque([(4, 4), (1, 1), (5, 7)])\n",
      "7\n",
      "-2이동  [0, 2, 3, 5, 6] [2, 3] deque([(4, 4), (1, 1), (5, 7)])\n",
      "8\n",
      "복원 [0, 2, 3, 5, 6, 7] [2, 3] deque([(4, 4), (1, 1)])\n",
      "9\n",
      "복원 [0, 1, 2, 3, 5, 6, 7] [3, 3] deque([(4, 4)])\n",
      "10\n",
      "-1이동  [0, 1, 2, 3, 5, 6, 7] [2, 2] deque([(4, 4)])\n",
      "11\n",
      "삭제 [0, 1, 3, 5, 6, 7] [2, 3] deque([(4, 4), (2, 2)])\n"
     ]
    },
    {
     "data": {
      "text/plain": [
       "'OOXOXOOO'"
      ]
     },
     "execution_count": 118,
     "metadata": {},
     "output_type": "execute_result"
    }
   ],
   "source": [
    "solution(8, 2, [\"D 2\",\"C\",\"U 3\",\"C\",\"D 4\",\"C\",\"U 2\",\"Z\",\"Z\",\"U 1\",\"C\"])"
   ]
  },
  {
   "cell_type": "code",
   "execution_count": 119,
   "metadata": {},
   "outputs": [],
   "source": [
    "from collections import deque"
   ]
  },
  {
   "cell_type": "code",
   "execution_count": 149,
   "metadata": {},
   "outputs": [],
   "source": [
    "def solution(n, k, cmd):\n",
    "    arr = [1] * n\n",
    "    # arr = [1, 1, 1, 1, 1, 1, 1]\n",
    "    selected = k\n",
    "    removed = deque()\n",
    "    answer = \"\"\n",
    "    for d in cmd:\n",
    "        if d[0] == \"U\":\n",
    "            # d[2] 만큼 이동\n",
    "            move = 0 # 이동 거리 총 합\n",
    "            count = 0 # while문 조건을 위한 실제 카운트\n",
    "            while count != int(d[2]):\n",
    "                selected -= 1\n",
    "                if selected < 0 :\n",
    "                    selected = 0\n",
    "                    break\n",
    "                if arr[selected] == 0:\n",
    "                    move +=1\n",
    "                    continue\n",
    "                count += 1\n",
    "        elif d[0] == \"D\":   \n",
    "            # d[2] 만큼 이동\n",
    "            move = 0 # 이동 거리 총 합\n",
    "            count = 0 # while문 조건을 위한 실제 카운트       \n",
    "            while count != int(d[2]):\n",
    "                selected += 1\n",
    "                if selected >= len(arr):\n",
    "                    selected = len(arr)\n",
    "                    break\n",
    "                if arr[selected] == 0:\n",
    "                    move +=1\n",
    "                    continue\n",
    "                count += 1\n",
    "        elif d[0] == \"C\":\n",
    "            arr[selected] = 0\n",
    "            removed.append(selected)\n",
    "            check_point = selected\n",
    "            # selected 이동\n",
    "            while arr[selected] == 1:\n",
    "                selected += 1\n",
    "                # 만약 끝까지 0인 경우 체크포인트 부터 왼쪽으로 이동\n",
    "                if selected >= len(arr):\n",
    "                    selected = check_point\n",
    "                    while arr[selected] == 1:\n",
    "                        selected -= 1\n",
    "                        break\n",
    "        elif d[0] == \"Z\":\n",
    "            # 실행 취소로 스택에 쌓아둔 숫자를 변경\n",
    "            idx = removed.pop()\n",
    "            arr[idx] = 1\n",
    "            \n",
    "    for i in range(n):\n",
    "        if arr[i] == 1:\n",
    "            answer += \"O\"\n",
    "        else:\n",
    "            answer += \"X\"\n",
    "\n",
    "    return answer\n"
   ]
  },
  {
   "cell_type": "code",
   "execution_count": 150,
   "metadata": {},
   "outputs": [
    {
     "name": "stdout",
     "output_type": "stream",
     "text": [
      "count :  1\n",
      "count :  2\n",
      "selected : 4\n",
      "arr : [1, 1, 1, 1, 1, 1, 1, 1]\n",
      "selected : 4\n",
      "arr : [1, 1, 1, 1, 0, 1, 1, 1]\n",
      "selected : 1\n",
      "arr : [1, 1, 1, 1, 0, 1, 1, 1]\n",
      "selected : 1\n",
      "arr : [1, 0, 1, 1, 0, 1, 1, 1]\n",
      "count :  1\n",
      "count :  2\n",
      "count :  3\n",
      "count :  4\n",
      "selected : 6\n",
      "arr : [1, 0, 1, 1, 0, 1, 1, 1]\n",
      "selected : 6\n",
      "arr : [1, 0, 1, 1, 0, 1, 0, 1]\n",
      "selected : 3\n",
      "arr : [1, 0, 1, 1, 0, 1, 0, 1]\n",
      "selected : 2\n",
      "arr : [1, 1, 1, 1, 0, 1, 1, 1]\n",
      "selected : 2\n",
      "arr : [1, 1, 0, 1, 0, 1, 1, 1]\n"
     ]
    },
    {
     "data": {
      "text/plain": [
       "'OOXOXOOO'"
      ]
     },
     "execution_count": 150,
     "metadata": {},
     "output_type": "execute_result"
    }
   ],
   "source": [
    "solution(8, 2, [\"D 2\",\"C\",\"U 3\",\"C\",\"D 4\",\"C\",\"U 2\",\"Z\",\"Z\",\"U 1\",\"C\"])"
   ]
  },
  {
   "cell_type": "markdown",
   "metadata": {},
   "source": [
    "이 문제의 표의 길이는 무려 1,000,000으로 리스트를 사용해서 삭제, 추가를 할 경우\n",
    "200,000 * 1,000,000 이므로 효율성 테스트를 절대 통과할 수 없다."
   ]
  },
  {
   "cell_type": "markdown",
   "metadata": {},
   "source": [
    "### 추가 , 삭제 => 링크드 리스트 공부"
   ]
  },
  {
   "cell_type": "code",
   "execution_count": null,
   "metadata": {},
   "outputs": [],
   "source": []
  }
 ],
 "metadata": {
  "interpreter": {
   "hash": "be805ae34670cdb3c948a255e52b4c6cf927efb8c3bd1571b8421aaa53085dfe"
  },
  "kernelspec": {
   "display_name": "Python 3.9.7 ('base')",
   "language": "python",
   "name": "python3"
  },
  "language_info": {
   "codemirror_mode": {
    "name": "ipython",
    "version": 3
   },
   "file_extension": ".py",
   "mimetype": "text/x-python",
   "name": "python",
   "nbconvert_exporter": "python",
   "pygments_lexer": "ipython3",
   "version": "3.9.7"
  },
  "orig_nbformat": 4
 },
 "nbformat": 4,
 "nbformat_minor": 2
}
