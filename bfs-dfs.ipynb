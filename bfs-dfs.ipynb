{
 "cells": [
  {
   "cell_type": "code",
   "execution_count": 188,
   "metadata": {},
   "outputs": [],
   "source": [
    "# BFS, DFS를 구현하기 위해서는 그래프를 코드로 표현해야 한다.\n",
    "# 한 노드를 중심으로 연결 관계가 있는 노드를 표현 하면 된다.\n",
    "graph = {\n",
    "    \"A\":[\"B\"],\n",
    "    \"B\":[\"A\", \"C\", \"H\"],\n",
    "    \"C\":[\"B\", \"D\"],\n",
    "    \"D\":[\"C\",\"E\",\"G\"],\n",
    "    \"E\":[\"D\",\"F\"],\n",
    "    \"F\":[\"E\",],\n",
    "    \"G\":[\"D\",],\n",
    "    \"H\":[\"B\",\"I\",\"J\",\"M\"],\n",
    "    \"I\":[\"H\",],\n",
    "    \"J\":[\"H\",\"K\"],    \n",
    "    \"K\":[\"J\",\"L\"],\n",
    "    \"L\":[\"K\"],\n",
    "    \"M\":[\"H\"]\n",
    "}"
   ]
  },
  {
   "cell_type": "code",
   "execution_count": 189,
   "metadata": {},
   "outputs": [],
   "source": [
    "from collections import deque"
   ]
  },
  {
   "cell_type": "code",
   "execution_count": 190,
   "metadata": {},
   "outputs": [],
   "source": [
    "def solution(graph, start_node):\n",
    "    visit = []\n",
    "    q = deque()\n",
    "    q.append(start_node)\n",
    "\n",
    "    while q:\n",
    "        node = q.popleft()\n",
    "        if node not in visit:\n",
    "            visit.append(node)\n",
    "            q.extend(graph[node])\n",
    "    return visit\n"
   ]
  },
  {
   "cell_type": "code",
   "execution_count": 191,
   "metadata": {},
   "outputs": [
    {
     "data": {
      "text/plain": [
       "['C', 'B', 'D', 'A', 'H', 'E', 'G', 'I', 'J', 'M', 'F', 'K', 'L']"
      ]
     },
     "execution_count": 191,
     "metadata": {},
     "output_type": "execute_result"
    }
   ],
   "source": [
    "solution(graph, \"C\")"
   ]
  },
  {
   "cell_type": "code",
   "execution_count": 192,
   "metadata": {},
   "outputs": [
    {
     "data": {
      "text/plain": [
       "{(1, 3), '1', 3, 5}"
      ]
     },
     "execution_count": 192,
     "metadata": {},
     "output_type": "execute_result"
    }
   ],
   "source": [
    "s = {\"1\", 3, 5, (1,3)}\n",
    "s"
   ]
  },
  {
   "cell_type": "code",
   "execution_count": 193,
   "metadata": {},
   "outputs": [],
   "source": [
    "# DFS는 Queue가 아니라 Stack을 사용한다.\n",
    "\n",
    "def dfs(graph, start_node):\n",
    "    visited = []\n",
    "    stack = []\n",
    "    stack.append(start_node)\n",
    "\n",
    "    while stack:\n",
    "        curr = stack.pop() # 뒤 부터..\n",
    "        if curr not in curr:\n",
    "            visited.append(curr)\n",
    "            stack.extend(graph[curr])\n",
    "    return visited"
   ]
  },
  {
   "cell_type": "code",
   "execution_count": 194,
   "metadata": {},
   "outputs": [
    {
     "data": {
      "text/plain": [
       "[]"
      ]
     },
     "execution_count": 194,
     "metadata": {},
     "output_type": "execute_result"
    }
   ],
   "source": [
    "dfs(graph, \"A\")"
   ]
  },
  {
   "cell_type": "code",
   "execution_count": 195,
   "metadata": {},
   "outputs": [],
   "source": [
    "queue = deque((1, 2, 3))"
   ]
  },
  {
   "cell_type": "code",
   "execution_count": 196,
   "metadata": {},
   "outputs": [],
   "source": [
    "add = {1, 3, 2,}"
   ]
  },
  {
   "cell_type": "code",
   "execution_count": 197,
   "metadata": {},
   "outputs": [
    {
     "data": {
      "text/plain": [
       "set"
      ]
     },
     "execution_count": 197,
     "metadata": {},
     "output_type": "execute_result"
    }
   ],
   "source": [
    "type(add)"
   ]
  },
  {
   "cell_type": "code",
   "execution_count": 198,
   "metadata": {},
   "outputs": [],
   "source": [
    "graph = {\n",
    "    1 : [2, 3, 8],\n",
    "    2 : [1, 7],\n",
    "    3 : [1, 4, 5],\n",
    "    4 : [3, 5],\n",
    "    5 : [3, 4],\n",
    "    6 : [7],\n",
    "    7 : [2, 6, 8],\n",
    "    8 : [1, 7]\n",
    "}"
   ]
  },
  {
   "cell_type": "code",
   "execution_count": 199,
   "metadata": {},
   "outputs": [],
   "source": [
    "# bdf\n",
    "from collections import deque"
   ]
  },
  {
   "cell_type": "code",
   "execution_count": 200,
   "metadata": {},
   "outputs": [],
   "source": [
    "def solution(graph, start):\n",
    "    visited = [False] * (len(graph)+1)\n",
    "    q = deque([start])\n",
    "\n",
    "    result = []\n",
    "\n",
    "    while q:\n",
    "        curr = q.popleft()\n",
    "        # curr = 1\n",
    "        if visited[curr]:\n",
    "            continue\n",
    "        result.append(curr)\n",
    "        visited[curr] = True\n",
    "        q.extend(graph[curr])\n",
    "    \n",
    "    return result\n"
   ]
  },
  {
   "cell_type": "code",
   "execution_count": 201,
   "metadata": {},
   "outputs": [
    {
     "data": {
      "text/plain": [
       "[1, 2, 3, 8, 7, 4, 5, 6]"
      ]
     },
     "execution_count": 201,
     "metadata": {},
     "output_type": "execute_result"
    }
   ],
   "source": [
    "solution(graph, 1)"
   ]
  },
  {
   "cell_type": "code",
   "execution_count": 202,
   "metadata": {},
   "outputs": [],
   "source": [
    "graph = {\n",
    "    \"A\":[\"B\"],\n",
    "    \"B\":[\"A\", \"C\", \"H\"],\n",
    "    \"C\":[\"B\", \"D\"],\n",
    "    \"D\":[\"C\",\"E\",\"G\"],\n",
    "    \"E\":[\"D\",\"F\"],\n",
    "    \"F\":[\"E\",],\n",
    "    \"G\":[\"D\",],\n",
    "    \"H\":[\"B\",\"I\",\"J\",\"M\"],\n",
    "    \"I\":[\"H\",],\n",
    "    \"J\":[\"H\",\"K\"],    \n",
    "    \"K\":[\"J\",\"L\"],\n",
    "    \"L\":[\"K\"],\n",
    "    \"M\":[\"H\"]\n",
    "}"
   ]
  },
  {
   "cell_type": "code",
   "execution_count": 203,
   "metadata": {},
   "outputs": [],
   "source": [
    "from queue import Queue"
   ]
  },
  {
   "cell_type": "code",
   "execution_count": 204,
   "metadata": {},
   "outputs": [],
   "source": [
    "def solution(graph, start):\n",
    "    visited = []\n",
    "    q = Queue()\n",
    "    q.put(start)\n",
    "\n",
    "    while not q.empty():\n",
    "        node = q.get()\n",
    "        # node = \"A\"\n",
    "        if node not in visited:\n",
    "            visited.append(node)\n",
    "            for next in graph[node]:\n",
    "                q.put(next)\n",
    "    return visited\n"
   ]
  },
  {
   "cell_type": "code",
   "execution_count": 205,
   "metadata": {},
   "outputs": [
    {
     "data": {
      "text/plain": [
       "['A', 'B', 'C', 'H', 'D', 'I', 'J', 'M', 'E', 'G', 'K', 'F', 'L']"
      ]
     },
     "execution_count": 205,
     "metadata": {},
     "output_type": "execute_result"
    }
   ],
   "source": [
    "solution(graph, \"A\")"
   ]
  },
  {
   "cell_type": "code",
   "execution_count": 206,
   "metadata": {},
   "outputs": [],
   "source": [
    "def solution(graph, start):\n",
    "    visited = []\n",
    "    stack = [start]\n",
    "\n",
    "    while stack:\n",
    "        curr = stack.pop()\n",
    "        if curr not in visited:\n",
    "            visited.append(curr)\n",
    "            stack.extend(reversed(graph[curr]))\n",
    "    \n",
    "    return visited"
   ]
  },
  {
   "cell_type": "code",
   "execution_count": 207,
   "metadata": {},
   "outputs": [
    {
     "data": {
      "text/plain": [
       "['A', 'B', 'C', 'D', 'E', 'F', 'G', 'H', 'I', 'J', 'K', 'L', 'M']"
      ]
     },
     "execution_count": 207,
     "metadata": {},
     "output_type": "execute_result"
    }
   ],
   "source": [
    "solution(graph, \"A\")"
   ]
  },
  {
   "cell_type": "code",
   "execution_count": 208,
   "metadata": {},
   "outputs": [],
   "source": [
    "graph = {\n",
    "    1 : [2, 3, 8],\n",
    "    2 : [1, 7],\n",
    "    3 : [1, 4, 5],\n",
    "    4 : [3, 5],\n",
    "    5 : [3, 4],\n",
    "    6 : [7],\n",
    "    7 : [2, 6, 8],\n",
    "    8 : [1, 7]\n",
    "}"
   ]
  },
  {
   "cell_type": "code",
   "execution_count": 209,
   "metadata": {},
   "outputs": [],
   "source": [
    "def dfs(graph, start):\n",
    "    visited = [False] * (len(graph) + 1)\n",
    "    stack = [start]\n",
    "    result = []\n",
    "    while stack:\n",
    "        node = stack.pop()\n",
    "        # node = 1\n",
    "        if visited[node] == False:\n",
    "            result.append(node)\n",
    "            visited[node] = True\n",
    "            stack.extend(reversed(graph[node]))\n",
    "    \n",
    "    return result\n",
    "        "
   ]
  },
  {
   "cell_type": "code",
   "execution_count": 210,
   "metadata": {},
   "outputs": [
    {
     "data": {
      "text/plain": [
       "[1, 2, 7, 6, 8, 3, 4, 5]"
      ]
     },
     "execution_count": 210,
     "metadata": {},
     "output_type": "execute_result"
    }
   ],
   "source": [
    "dfs(graph, 1)"
   ]
  },
  {
   "cell_type": "code",
   "execution_count": 211,
   "metadata": {},
   "outputs": [],
   "source": [
    "# 재귀함수 사용해서 dfs 구현하기\n",
    "# 참고 https://juhee-maeng.tistory.com/25\n",
    "graph = {'A':['B','C'],\n",
    "         'B':['A','D','E'],\n",
    "         'C':['A','F','G'],\n",
    "         'D':['B'],\n",
    "         'E':['B','H'],\n",
    "         'F':['C','H'],\n",
    "         'G':['C'],\n",
    "         'H':['E','F']}"
   ]
  },
  {
   "cell_type": "code",
   "execution_count": 212,
   "metadata": {},
   "outputs": [],
   "source": [
    "# 주의\n",
    "# visited.append(start)\n",
    "# dfs_recursive()\n",
    "\n",
    "def dfs_recursive(graph, start, visited: list=[]):\n",
    "    visited.append(start) ## ★★★★★\n",
    "\n",
    "    for node in graph[start]:\n",
    "        if node not in visited:\n",
    "            dfs_recursive(graph, node, visited) ## ★★★★★\n",
    "    \n",
    "    return visited"
   ]
  },
  {
   "cell_type": "code",
   "execution_count": 213,
   "metadata": {},
   "outputs": [
    {
     "data": {
      "text/plain": [
       "['A', 'B', 'D', 'E', 'H', 'F', 'C', 'G']"
      ]
     },
     "execution_count": 213,
     "metadata": {},
     "output_type": "execute_result"
    }
   ],
   "source": [
    "dfs_recursive(graph, \"A\")"
   ]
  },
  {
   "cell_type": "code",
   "execution_count": 214,
   "metadata": {},
   "outputs": [],
   "source": [
    "def dfs_recursive(graph, start, visited=[]):\n",
    "\n",
    "    # visited.append(start)대신 visited = visited + [start]를 대입 => 서로 다른 참조값을 가짐\n",
    "    visited = visited + [start] \n",
    "    \n",
    "    for node in graph[start]:\n",
    "        if node not in visited:\n",
    "            visited = dfs_recursive(graph, node, visited) # 따라서 같은 visited객체에 리스트를 추가하려면 선언으로 visited를 참조해야한다.\n",
    "    \n",
    "    return visited"
   ]
  },
  {
   "cell_type": "code",
   "execution_count": 215,
   "metadata": {},
   "outputs": [],
   "source": [
    "# A부터 H 까지 갈수 있는 모든 경로\n",
    "paths = []\n",
    "def dfs_path(graph, start, end, visited:list=[]):\n",
    "    # 그 전에 방문했던 노드들을 기록\n",
    "    # 이번 차례 방문하는 노드를 새롭게 추가\n",
    "    visited = visited + [start]\n",
    "\n",
    "    # 도착할 경우 path에 여태 탐색 경로를 추가\n",
    "    if start == end:\n",
    "        paths.append(visited)\n",
    "    \n",
    "    for node in graph[start]:\n",
    "        # node = \"B\"\n",
    "        if node not in visited:\n",
    "            dfs_path(graph, node, end, visited)"
   ]
  },
  {
   "cell_type": "code",
   "execution_count": 216,
   "metadata": {},
   "outputs": [],
   "source": [
    "dfs_path(graph, \"A\", \"H\")"
   ]
  },
  {
   "cell_type": "code",
   "execution_count": 217,
   "metadata": {},
   "outputs": [
    {
     "data": {
      "text/plain": [
       "[['A', 'B', 'E', 'H'], ['A', 'C', 'F', 'H']]"
      ]
     },
     "execution_count": 217,
     "metadata": {},
     "output_type": "execute_result"
    }
   ],
   "source": [
    "paths"
   ]
  },
  {
   "cell_type": "code",
   "execution_count": 218,
   "metadata": {},
   "outputs": [],
   "source": [
    "def dfs_path(graph, paths, start, end, visited:list=[]):\n",
    "    # 그 전에 방문했던 노드들을 기록\n",
    "    # 이번 차례 방문하는 노드를 새롭게 추가\n",
    "    visited = visited + [start]\n",
    "\n",
    "    # 도착할 경우 path에 여태 탐색 경로를 추가\n",
    "    if start == end:\n",
    "        paths.append(visited)\n",
    "    \n",
    "    for node in graph[start]:\n",
    "        # node = \"B\"\n",
    "        if node not in visited:\n",
    "            dfs_path(graph, paths ,node, end, visited)\n",
    "\n",
    "def solution(graph):\n",
    "    paths = []\n",
    "    dfs_path(graph,paths,\"A\", \"H\")\n",
    "    return paths"
   ]
  },
  {
   "cell_type": "code",
   "execution_count": 219,
   "metadata": {},
   "outputs": [
    {
     "data": {
      "text/plain": [
       "[['A', 'B', 'E', 'H'], ['A', 'C', 'F', 'H']]"
      ]
     },
     "execution_count": 219,
     "metadata": {},
     "output_type": "execute_result"
    }
   ],
   "source": [
    "solution(graph)"
   ]
  },
  {
   "cell_type": "code",
   "execution_count": 220,
   "metadata": {},
   "outputs": [],
   "source": [
    "graph = {'A':['B','C'],\n",
    "         'B':['A','D','E'],\n",
    "         'C':['A','F','G'],\n",
    "         'D':['B'],\n",
    "         'E':['B','H'],\n",
    "         'F':['C','H'],\n",
    "         'G':['C'],\n",
    "         'H':['E','F']}"
   ]
  },
  {
   "cell_type": "code",
   "execution_count": 221,
   "metadata": {},
   "outputs": [],
   "source": [
    "def dfs(graph, start):\n",
    "    visited = []\n",
    "    stack = [start]\n",
    "    \n",
    "    while stack:\n",
    "        curr = stack.pop()\n",
    "        # curr = \"A\"\n",
    "        if curr not in visited:\n",
    "            visited.append(curr)\n",
    "            stack.extend(graph[curr])\n",
    "    \n",
    "    return visited"
   ]
  },
  {
   "cell_type": "code",
   "execution_count": 231,
   "metadata": {},
   "outputs": [],
   "source": [
    "def dfs(graph, start, visited:list=[]):\n",
    "    # visited.append(start)\n",
    "    visited.append(start)\n",
    "    print(visited)\n",
    "\n",
    "    for node in graph[start]:\n",
    "        if node not in visited:\n",
    "            dfs(graph, node, visited)\n",
    "    \n",
    "    return visited"
   ]
  },
  {
   "cell_type": "code",
   "execution_count": 232,
   "metadata": {},
   "outputs": [],
   "source": [
    "graph = {'A':['B','C'],\n",
    "         'B':['A','D','E'],\n",
    "         'C':['A','G','H'],\n",
    "         'D':['B'],\n",
    "         'E':['B','F'],\n",
    "         'F':['E'],\n",
    "         'G':['C'],\n",
    "         'H':['C']}"
   ]
  },
  {
   "cell_type": "code",
   "execution_count": 233,
   "metadata": {},
   "outputs": [
    {
     "name": "stdout",
     "output_type": "stream",
     "text": [
      "['A']\n",
      "['A', 'B']\n",
      "['A', 'B', 'D']\n",
      "['A', 'B', 'D', 'E']\n",
      "['A', 'B', 'D', 'E', 'F']\n",
      "['A', 'B', 'D', 'E', 'F', 'C']\n",
      "['A', 'B', 'D', 'E', 'F', 'C', 'G']\n",
      "['A', 'B', 'D', 'E', 'F', 'C', 'G', 'H']\n"
     ]
    },
    {
     "data": {
      "text/plain": [
       "['A', 'B', 'D', 'E', 'F', 'C', 'G', 'H']"
      ]
     },
     "execution_count": 233,
     "metadata": {},
     "output_type": "execute_result"
    }
   ],
   "source": [
    "dfs(graph, \"A\")"
   ]
  },
  {
   "cell_type": "code",
   "execution_count": 249,
   "metadata": {},
   "outputs": [],
   "source": [
    "li = []"
   ]
  },
  {
   "cell_type": "code",
   "execution_count": 239,
   "metadata": {},
   "outputs": [
    {
     "data": {
      "text/plain": [
       "140588243964032"
      ]
     },
     "execution_count": 239,
     "metadata": {},
     "output_type": "execute_result"
    }
   ],
   "source": [
    "id(li)"
   ]
  },
  {
   "cell_type": "code",
   "execution_count": 241,
   "metadata": {},
   "outputs": [
    {
     "data": {
      "text/plain": [
       "140588243964032"
      ]
     },
     "execution_count": 241,
     "metadata": {},
     "output_type": "execute_result"
    }
   ],
   "source": [
    "li.append(1)\n",
    "id(li)"
   ]
  },
  {
   "cell_type": "code",
   "execution_count": 251,
   "metadata": {},
   "outputs": [],
   "source": [
    "li = list()"
   ]
  },
  {
   "cell_type": "code",
   "execution_count": 253,
   "metadata": {},
   "outputs": [],
   "source": [
    "from collections import deque"
   ]
  },
  {
   "cell_type": "code",
   "execution_count": 256,
   "metadata": {},
   "outputs": [],
   "source": [
    "def bsf(graph, start):\n",
    "    visited = []\n",
    "    q = deque([start])\n",
    "    while q:\n",
    "        node = q.popleft()\n",
    "        if node not in visited:\n",
    "            visited.append(node)\n",
    "            q.extend(graph[node])\n",
    "    return visited"
   ]
  },
  {
   "cell_type": "code",
   "execution_count": 257,
   "metadata": {},
   "outputs": [
    {
     "data": {
      "text/plain": [
       "['A', 'B', 'C', 'D', 'E', 'G', 'H', 'F']"
      ]
     },
     "execution_count": 257,
     "metadata": {},
     "output_type": "execute_result"
    }
   ],
   "source": [
    "bsf(graph, \"A\")"
   ]
  },
  {
   "cell_type": "code",
   "execution_count": 258,
   "metadata": {},
   "outputs": [],
   "source": [
    "def dsf(graph, start):\n",
    "    visited = []\n",
    "    stack = deque([start])\n",
    "    \n",
    "    while stack:\n",
    "        node = stack.pop()\n",
    "        if node not in visited:\n",
    "            visited.append(node)\n",
    "            stack.extend(graph[node])\n",
    "    return visited"
   ]
  },
  {
   "cell_type": "code",
   "execution_count": 259,
   "metadata": {},
   "outputs": [
    {
     "data": {
      "text/plain": [
       "['A', 'C', 'H', 'G', 'B', 'E', 'F', 'D']"
      ]
     },
     "execution_count": 259,
     "metadata": {},
     "output_type": "execute_result"
    }
   ],
   "source": [
    "dsf(graph, \"A\")"
   ]
  },
  {
   "cell_type": "code",
   "execution_count": 260,
   "metadata": {},
   "outputs": [],
   "source": [
    "graph = {\n",
    "    1 : [2, 3, 8],\n",
    "    2 : [1, 7],\n",
    "    3 : [1, 4, 5],\n",
    "    4 : [3, 5],\n",
    "    5 : [3, 4],\n",
    "    6 : [7],\n",
    "    7 : [2, 6, 8],\n",
    "    8 : [1, 7]\n",
    "}"
   ]
  },
  {
   "cell_type": "code",
   "execution_count": 266,
   "metadata": {},
   "outputs": [],
   "source": [
    "def dfs(graph, start):\n",
    "    # start = 1\n",
    "    visited = []\n",
    "    stack = deque([start])\n",
    "\n",
    "    while stack:\n",
    "        node = stack.pop()\n",
    "        if node not in visited:\n",
    "            visited.append(node)\n",
    "            stack.extend(reversed(graph[node]))\n",
    "    \n",
    "    return visited"
   ]
  },
  {
   "cell_type": "code",
   "execution_count": 267,
   "metadata": {},
   "outputs": [
    {
     "data": {
      "text/plain": [
       "[1, 2, 7, 6, 8, 3, 4, 5]"
      ]
     },
     "execution_count": 267,
     "metadata": {},
     "output_type": "execute_result"
    }
   ],
   "source": [
    "dsf(graph, 1)"
   ]
  },
  {
   "cell_type": "code",
   "execution_count": 268,
   "metadata": {},
   "outputs": [],
   "source": [
    "def dfs(graph, start, visited:list=[]):\n",
    "    visited.append(start)\n",
    "\n",
    "    for node in graph[start]:\n",
    "        if node not in visited:\n",
    "            dfs(graph, node, visited)\n",
    "    \n",
    "    return visited"
   ]
  },
  {
   "cell_type": "code",
   "execution_count": 269,
   "metadata": {},
   "outputs": [
    {
     "data": {
      "text/plain": [
       "[1, 2, 7, 6, 8, 3, 4, 5]"
      ]
     },
     "execution_count": 269,
     "metadata": {},
     "output_type": "execute_result"
    }
   ],
   "source": [
    "dfs(graph, 1)"
   ]
  },
  {
   "cell_type": "markdown",
   "metadata": {},
   "source": [
    "## <문제> 음료수 얼려 먹기: 문제 설명\n",
    "- N × M 크기의 얼음 틀이 있다. 구멍이 뚫려 있는 부분은 0, 칸막이가 존재하는 부분은 1로 표시된다.   \n",
    "구멍이 뚫려 있는 부분끼리 상, 하, 좌, 우로 붙어 있는 경우 서로 연결되어 있는 것으로 간주한다.   \n",
    "이때 얼음 틀의 모양이 주어졌을 때 생성되는 총 아이스크림의 개수를 구하는 프로그램을 작성하라.   \n",
    "다음의 4 × 5 얼음 틀 예시에서는 아이스크림이 총 3개가 생성된다."
   ]
  },
  {
   "cell_type": "code",
   "execution_count": 339,
   "metadata": {},
   "outputs": [],
   "source": [
    "from collections import deque"
   ]
  },
  {
   "cell_type": "code",
   "execution_count": 340,
   "metadata": {},
   "outputs": [],
   "source": [
    "D = [(-1, 0), (1, 0), (0, -1), (0, 1)]"
   ]
  },
  {
   "cell_type": "code",
   "execution_count": 341,
   "metadata": {},
   "outputs": [],
   "source": [
    "def bfs(r, c, graph, n, m):\n",
    "    visited = [[False]* m for _ in range(n)]\n",
    "    visited[r][c] = True\n",
    "\n",
    "    q = deque([(r, c)])\n",
    "    path = [(r, c)]\n",
    "\n",
    "    while q:\n",
    "        curr = q.popleft()\n",
    "\n",
    "        for i in range(4):\n",
    "            nr = curr[0] + D[i][0]\n",
    "            nc = curr[1] + D[i][1]\n",
    "            if nr < 0 or nc < 0 or nr >= n or nc >= m :\n",
    "                continue\n",
    "            if graph[nr][nc] == \"1\":\n",
    "                continue\n",
    "            if visited[nr][nc] == True:\n",
    "                continue\n",
    "            else:\n",
    "                path.append((nr, nc))\n",
    "                visited[nr][nc] = True\n",
    "                q.append((nr, nc))\n",
    "    \n",
    "    return sorted(path)"
   ]
  },
  {
   "cell_type": "code",
   "execution_count": 342,
   "metadata": {},
   "outputs": [
    {
     "name": "stdout",
     "output_type": "stream",
     "text": [
      "3\n"
     ]
    }
   ],
   "source": [
    "N, M = map(int, input().split(' '))\n",
    "graph = []\n",
    "for _ in range(N):\n",
    "    graph.append(input())\n",
    "\n",
    "result = []\n",
    "\n",
    "for r in range(N):\n",
    "    for c in range(M):\n",
    "        if graph[r][c] == \"0\":\n",
    "            # 정렬된 경로 반환\n",
    "            path = bfs(r, c, graph, N, M)\n",
    "            if len(path) != 0 and path not in result:\n",
    "                result.append(path)\n",
    "\n",
    "answer = len(result)\n",
    "print(answer)\n"
   ]
  },
  {
   "cell_type": "code",
   "execution_count": 355,
   "metadata": {},
   "outputs": [],
   "source": [
    "def dfs(r, c):\n",
    "    if r < 0 or c < 0 or r >= N or c >= M:\n",
    "        return False\n",
    "    if graph[r][c] == 0:\n",
    "        graph[r][c] = 1\n",
    "        dfs(r-1, c)\n",
    "        dfs(r+1, c)\n",
    "        dfs(r, c-1)\n",
    "        dfs(r, c+1)\n",
    "        return True\n",
    "    return False"
   ]
  },
  {
   "cell_type": "code",
   "execution_count": 356,
   "metadata": {},
   "outputs": [
    {
     "name": "stdout",
     "output_type": "stream",
     "text": [
      "3\n"
     ]
    }
   ],
   "source": [
    "N, M = map(int, input().split(' '))\n",
    "graph = []\n",
    "for _ in range(N):\n",
    "    graph.append(list(map(int, input())))\n",
    "\n",
    "result = 0\n",
    "\n",
    "for r in range(N):\n",
    "    for c in range(M):\n",
    "        if dfs(r, c) == True:\n",
    "            result += 1\n",
    "print(result)\n"
   ]
  },
  {
   "cell_type": "code",
   "execution_count": 354,
   "metadata": {},
   "outputs": [
    {
     "data": {
      "text/plain": [
       "([[0, 0, 1, 1, 0], [0, 0, 0, 1, 1], [1, 1, 1, 1, 1], [0, 0, 0, 0, 0]], 4, 5)"
      ]
     },
     "execution_count": 354,
     "metadata": {},
     "output_type": "execute_result"
    }
   ],
   "source": [
    "graph, N, M"
   ]
  },
  {
   "cell_type": "code",
   "execution_count": 357,
   "metadata": {},
   "outputs": [
    {
     "name": "stdout",
     "output_type": "stream",
     "text": [
      "[[1, 1, 1, 1, 1], [1, 1, 1, 1, 1], [1, 1, 1, 1, 1], [1, 1, 1, 1, 1], []]\n",
      "[[1, 1, 1, 1, 1], [1, 1, 1, 1, 1], [1, 1, 1, 1, 1], [1, 1, 1, 1, 1], [], []]\n",
      "[[1, 1, 1, 1, 1], [1, 1, 1, 1, 1], [1, 1, 1, 1, 1], [1, 1, 1, 1, 1], [], [], []]\n",
      "[[1, 1, 1, 1, 1], [1, 1, 1, 1, 1], [1, 1, 1, 1, 1], [1, 1, 1, 1, 1], [], [], [], []]\n"
     ]
    }
   ],
   "source": [
    "for _ in range(N):\n",
    "    graph.append(list(map(int, input())))\n",
    "    print(graph)"
   ]
  },
  {
   "cell_type": "code",
   "execution_count": 358,
   "metadata": {},
   "outputs": [
    {
     "name": "stdout",
     "output_type": "stream",
     "text": [
      "hello\n"
     ]
    }
   ],
   "source": [
    "print(\"hello\")"
   ]
  },
  {
   "cell_type": "code",
   "execution_count": null,
   "metadata": {},
   "outputs": [],
   "source": []
  }
 ],
 "metadata": {
  "interpreter": {
   "hash": "be805ae34670cdb3c948a255e52b4c6cf927efb8c3bd1571b8421aaa53085dfe"
  },
  "kernelspec": {
   "display_name": "Python 3.9.7 ('base')",
   "language": "python",
   "name": "python3"
  },
  "language_info": {
   "codemirror_mode": {
    "name": "ipython",
    "version": 3
   },
   "file_extension": ".py",
   "mimetype": "text/x-python",
   "name": "python",
   "nbconvert_exporter": "python",
   "pygments_lexer": "ipython3",
   "version": "3.9.7"
  },
  "orig_nbformat": 4
 },
 "nbformat": 4,
 "nbformat_minor": 2
}
