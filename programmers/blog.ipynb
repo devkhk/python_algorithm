{
 "cells": [
  {
   "cell_type": "markdown",
   "metadata": {},
   "source": [
    "#### 블로그에 게시할 코드를 확인, 연습하는 코드"
   ]
  },
  {
   "cell_type": "code",
   "execution_count": 1,
   "metadata": {},
   "outputs": [
    {
     "name": "stdout",
     "output_type": "stream",
     "text": [
      "not exist\n"
     ]
    }
   ],
   "source": [
    "ls = [1, 2, 3]\n",
    "if 4 in ls :\n",
    "\tprint(\"exist\")\n",
    "else :\n",
    "\tprint(\"not exist\")"
   ]
  },
  {
   "cell_type": "code",
   "execution_count": 7,
   "metadata": {},
   "outputs": [
    {
     "name": "stdout",
     "output_type": "stream",
     "text": [
      "exist\n",
      "3\n"
     ]
    }
   ],
   "source": [
    "dc = {\n",
    "    'a' : 1,\n",
    "    'b' : 2,\n",
    "    'c' : 3,\n",
    "}\n",
    "if 'c' in dc.keys() :\n",
    "\tprint(\"exist\")\n",
    "else :\n",
    "\tprint(\"not exist\")\n",
    "\n",
    "for k, v in dc.items():\n",
    "    if k == 'c':\n",
    "        print(v)"
   ]
  },
  {
   "cell_type": "code",
   "execution_count": 3,
   "metadata": {},
   "outputs": [
    {
     "data": {
      "text/plain": [
       "[['a', 'a', 'a', 'a', 'a'],\n",
       " ['a', 'a', 'a', 'a', 'a'],\n",
       " ['a', 'a', 'a', 'a', 'a'],\n",
       " ['a', 'a', 'a', 'a', 'a'],\n",
       " ['a', 'a', 'a', 'a', 'a']]"
      ]
     },
     "execution_count": 3,
     "metadata": {},
     "output_type": "execute_result"
    }
   ],
   "source": [
    "result = [[\"a\"] * 5] * 5\n",
    "result\n"
   ]
  },
  {
   "cell_type": "code",
   "execution_count": 5,
   "metadata": {},
   "outputs": [
    {
     "data": {
      "text/plain": [
       "[['a', 'a', 'a', 'a', 'a'],\n",
       " ['a', 'a', 'a', 'a', 'a'],\n",
       " ['a', 'a', 'a', 'a', 'a'],\n",
       " ['a', 'a', 'a', 'a', 'a'],\n",
       " ['a', 'a', 'a', 'a', 'a']]"
      ]
     },
     "execution_count": 5,
     "metadata": {},
     "output_type": "execute_result"
    }
   ],
   "source": [
    "result_lcph= [ [\"a\"] * 5 for _ in range(5)]\n",
    "result_lcph"
   ]
  },
  {
   "cell_type": "code",
   "execution_count": 10,
   "metadata": {},
   "outputs": [],
   "source": [
    "result[2][1] = \"A\"\n",
    "result_lcph[2][1] = \"A\""
   ]
  },
  {
   "cell_type": "code",
   "execution_count": 11,
   "metadata": {},
   "outputs": [
    {
     "data": {
      "text/plain": [
       "[['a', 'A', 'a', 'a', 'a'],\n",
       " ['a', 'A', 'a', 'a', 'a'],\n",
       " ['a', 'A', 'a', 'a', 'a'],\n",
       " ['a', 'A', 'a', 'a', 'a'],\n",
       " ['a', 'A', 'a', 'a', 'a']]"
      ]
     },
     "execution_count": 11,
     "metadata": {},
     "output_type": "execute_result"
    }
   ],
   "source": [
    "result"
   ]
  },
  {
   "cell_type": "code",
   "execution_count": 12,
   "metadata": {},
   "outputs": [
    {
     "data": {
      "text/plain": [
       "[['a', 'a', 'a', 'a', 'a'],\n",
       " ['a', 'a', 'a', 'a', 'a'],\n",
       " ['a', 'A', 'a', 'a', 'a'],\n",
       " ['a', 'a', 'a', 'a', 'a'],\n",
       " ['a', 'a', 'a', 'a', 'a']]"
      ]
     },
     "execution_count": 12,
     "metadata": {},
     "output_type": "execute_result"
    }
   ],
   "source": [
    "result_lcph"
   ]
  },
  {
   "cell_type": "code",
   "execution_count": null,
   "metadata": {},
   "outputs": [],
   "source": []
  }
 ],
 "metadata": {
  "interpreter": {
   "hash": "2be5faf79681da6f2a61fdfdd5405d65d042280f7fba6178067603e3a2925119"
  },
  "kernelspec": {
   "display_name": "Python 3.10.0 64-bit",
   "language": "python",
   "name": "python3"
  },
  "language_info": {
   "codemirror_mode": {
    "name": "ipython",
    "version": 3
   },
   "file_extension": ".py",
   "mimetype": "text/x-python",
   "name": "python",
   "nbconvert_exporter": "python",
   "pygments_lexer": "ipython3",
   "version": "3.9.7"
  },
  "orig_nbformat": 4
 },
 "nbformat": 4,
 "nbformat_minor": 2
}
