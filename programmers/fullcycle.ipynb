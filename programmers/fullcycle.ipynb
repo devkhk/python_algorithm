{
 "cells": [
  {
   "cell_type": "code",
   "execution_count": 8,
   "metadata": {},
   "outputs": [
    {
     "data": {
      "text/plain": [
       "0"
      ]
     },
     "execution_count": 8,
     "metadata": {},
     "output_type": "execute_result"
    }
   ],
   "source": [
    "5 % 5"
   ]
  },
  {
   "cell_type": "code",
   "execution_count": 13,
   "id": "4a9c4171",
   "metadata": {},
   "outputs": [],
   "source": [
    "def solution_origin(answers):\n",
    "    pattern1 = [1,2,3,4,5]\n",
    "    pattern2 = [2,1,2,3,2,4,2,5]\n",
    "    pattern3 = [3,3,1,1,2,2,4,4,5,5]\n",
    "\n",
    "    scores = [0, 0, 0]\n",
    "    result = []\n",
    "\n",
    "    for i, answer in enumerate(answers):\n",
    "        if answer == pattern1[i%len(pattern1)]:\n",
    "            scores[0] += 1\n",
    "        if answer == pattern2[i%len(pattern2)]:\n",
    "            scores[1] += 1\n",
    "        if answer == pattern3[i%len(pattern3)]:\n",
    "            scores[2] += 1\n",
    "\n",
    "    for i, score in enumerate(scores):\n",
    "        if score == max(scores):\n",
    "            result.append(i+1)\n",
    "    \n",
    "    return result"
   ]
  },
  {
   "cell_type": "code",
   "execution_count": 30,
   "id": "57bee920",
   "metadata": {},
   "outputs": [
    {
     "name": "stdout",
     "output_type": "stream",
     "text": [
      "19.6 ms ± 77.7 µs per loop (mean ± std. dev. of 7 runs, 10 loops each)\n"
     ]
    }
   ],
   "source": [
    "%%timeit\n",
    "solution_origin([1, 4, 5, 2, 3, 1, 4, 2, 5, 2, 3, 1 ,2]*5000)"
   ]
  },
  {
   "cell_type": "code",
   "execution_count": 35,
   "id": "9f904d6a",
   "metadata": {},
   "outputs": [],
   "source": [
    "def solution_modify(answers):\n",
    "    pattern1 = [1,2,3,4,5]\n",
    "    pattern2 = [2,1,2,3,2,4,2,5]\n",
    "    pattern3 = [3,3,1,1,2,2,4,4,5,5]\n",
    "\n",
    "    len_1 = len(pattern1)\n",
    "    len_2 = len(pattern2)\n",
    "    len_3 = len(pattern3)\n",
    "\n",
    "\n",
    "    scores = [0, 0, 0]\n",
    "    result = []\n",
    "\n",
    "\n",
    "    for i, answer in enumerate(answers):\n",
    "        if answer == pattern1[i % len_1]:\n",
    "            scores[0] += 1\n",
    "        if answer == pattern2[i % len_2]:\n",
    "            scores[1] += 1\n",
    "        if answer == pattern3[i % len_3]:\n",
    "            scores[2] += 1\n",
    "\n",
    "    top = max(scores)\n",
    "\n",
    "    for i, score in enumerate(scores):\n",
    "        if score == top:\n",
    "            result.append(i+1)\n",
    "    \n",
    "    return result"
   ]
  },
  {
   "cell_type": "code",
   "execution_count": 36,
   "id": "d7aa1e0d",
   "metadata": {},
   "outputs": [
    {
     "name": "stdout",
     "output_type": "stream",
     "text": [
      "14.5 ms ± 199 µs per loop (mean ± std. dev. of 7 runs, 100 loops each)\n"
     ]
    }
   ],
   "source": [
    "%%timeit\n",
    "solution_modify([1, 4, 5, 2, 3, 1, 4, 2, 5, 2, 3, 1 ,2]*5000)"
   ]
  },
  {
   "cell_type": "code",
   "execution_count": 33,
   "id": "3ebf50bd",
   "metadata": {},
   "outputs": [],
   "source": [
    "def solution(answers):\n",
    "    supo1 = [1, 2, 3, 4, 5]\n",
    "    supo2 = [2, 1, 2, 3, 2, 4, 2, 5]\n",
    "    supo3 = [3, 3, 1, 1, 2, 2, 4, 4, 5, 5 ]\n",
    "\n",
    "    len_1 = len(supo1)-1\n",
    "    len_2 = len(supo2)-1\n",
    "    len_3 = len(supo3)-1\n",
    "\n",
    "    supo1_i = 0\n",
    "    supo2_i = 0\n",
    "    supo3_i = 0\n",
    "    \n",
    "    scores = [0, 0, 0]\n",
    "    answer = []\n",
    "\n",
    "    for n in answers:\n",
    "        if n == supo1[supo1_i]:\n",
    "            scores[0] += 1\n",
    "        if n == supo2[supo2_i]:\n",
    "            scores[1] += 1 \n",
    "        if n == supo3[supo3_i]:\n",
    "            scores[2] += 1 \n",
    "        if supo1_i != len_1:\n",
    "            supo1_i +=1\n",
    "        else:\n",
    "            supo1_i = 0\n",
    "        if supo2_i != len_2:\n",
    "            supo2_i += 1\n",
    "        else:\n",
    "            supo2_i = 0\n",
    "        if supo3_i != len_3:\n",
    "            supo3_i += 1\n",
    "        else:\n",
    "            supo3_i = 0\n",
    "    \n",
    "    top = max(scores)\n",
    "    for i, score in enumerate(scores):\n",
    "        if top == score:\n",
    "            answer.append(i+1)\n",
    "            \n",
    "    return answer"
   ]
  },
  {
   "cell_type": "code",
   "execution_count": 34,
   "id": "875f3cff",
   "metadata": {},
   "outputs": [
    {
     "name": "stdout",
     "output_type": "stream",
     "text": [
      "17.5 ms ± 62.1 µs per loop (mean ± std. dev. of 7 runs, 100 loops each)\n"
     ]
    }
   ],
   "source": [
    "%%timeit\n",
    "solution([1, 4, 5, 2, 3, 1, 4, 2, 5, 2, 3, 1 ,2]*5000)"
   ]
  },
  {
   "cell_type": "code",
   "execution_count": null,
   "id": "34f06af2",
   "metadata": {},
   "outputs": [],
   "source": []
  }
 ],
 "metadata": {
  "interpreter": {
   "hash": "be805ae34670cdb3c948a255e52b4c6cf927efb8c3bd1571b8421aaa53085dfe"
  },
  "kernelspec": {
   "display_name": "Python 3.9.7 ('base')",
   "language": "python",
   "name": "python3"
  },
  "language_info": {
   "codemirror_mode": {
    "name": "ipython",
    "version": 3
   },
   "file_extension": ".py",
   "mimetype": "text/x-python",
   "name": "python",
   "nbconvert_exporter": "python",
   "pygments_lexer": "ipython3",
   "version": "3.9.7"
  }
 },
 "nbformat": 4,
 "nbformat_minor": 5
}
