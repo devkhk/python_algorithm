{
 "cells": [
  {
   "cell_type": "code",
   "execution_count": 16,
   "metadata": {},
   "outputs": [
    {
     "name": "stdout",
     "output_type": "stream",
     "text": [
      "탐색 여부 :  False\n",
      "탐색 원소의 인덱스 :  -1\n",
      "정렬 배열 탐색 :  False\n"
     ]
    }
   ],
   "source": [
    "# 선형 탐색 알고리즘 O(N)\n",
    "\n",
    "# 1. 탐색 여부 알고리즘\n",
    "def linear_search(l, e):\n",
    "    found = False\n",
    "    for i in l:\n",
    "        if i == e:\n",
    "            found = True\n",
    "    return found\n",
    "\n",
    "print(\"탐색 여부 : \", linear_search([1, 2, 4,3, 5, 6], 25))\n",
    "\n",
    "# 2. 탐색된 원소의 순서를 반환하는 선형 탐색 알고리즘\n",
    "def linear_search_idx(l, e):\n",
    "    n = len(l)\n",
    "    idx = -1\n",
    "    for i in range(n):\n",
    "        if(l[i] == e):\n",
    "            idx = i\n",
    "    return idx\n",
    "\n",
    "print(\"탐색 원소의 인덱스 : \", linear_search_idx([1, 2, 3, 4, 5, 6], 60))\n",
    "\n",
    "# 정렬된 배열에 대한 선형 탐색 알고리즘\n",
    "def linear_search_sorted(l, e):\n",
    "    found = False\n",
    "    for i in l:\n",
    "        if i == e:\n",
    "            found = True\n",
    "            break\n",
    "        if(i > e):\n",
    "            found = False\n",
    "            break\n",
    "    return found\n",
    "\n",
    "print(\"정렬 배열 탐색 : \", linear_search_sorted(sorted([1, 2, 19, 29, 69, 2, 429, 33, 25]), 58))\n"
   ]
  },
  {
   "cell_type": "markdown",
   "metadata": {},
   "source": [
    "## 그래프 탐색\n",
    "- 깊이 우선 탐색 DFS\n",
    "- 너비 우선 탐색 BFS\n",
    "\n",
    "### 깊이 우선 탐색 DFS\n",
    "깊이 우선 탐색은 갈수 있는 만큼 최대한 깊이 가고, 더이상 갈 곳이 없다면 이전 정점으로 돌아가는 방식\n",
    "\n",
    "간단한 재귀호출을 사용하여 구현하거나 스택을 사용하여 구현\n",
    "\n",
    "### 넓이 우선 탐색 BFS\n",
    "넓이 우선 탐색은 시작정점을 방문한 후 시작 정점에 인접한 모든 정점을 방문, 정점에 인접한 모든 정점들을 우선 방문하는 방법\n",
    "\n",
    "일반적으로 queue를 사용해서 지금 위치에서 갈 수 있는 모든 것들을 모두 큐에 넣는 방식으로 구현"
   ]
  },
  {
   "cell_type": "markdown",
   "metadata": {},
   "source": []
  }
 ],
 "metadata": {
  "interpreter": {
   "hash": "be805ae34670cdb3c948a255e52b4c6cf927efb8c3bd1571b8421aaa53085dfe"
  },
  "kernelspec": {
   "display_name": "Python 3.9.7 ('base')",
   "language": "python",
   "name": "python3"
  },
  "language_info": {
   "codemirror_mode": {
    "name": "ipython",
    "version": 3
   },
   "file_extension": ".py",
   "mimetype": "text/x-python",
   "name": "python",
   "nbconvert_exporter": "python",
   "pygments_lexer": "ipython3",
   "version": "3.9.7"
  },
  "orig_nbformat": 4
 },
 "nbformat": 4,
 "nbformat_minor": 2
}
