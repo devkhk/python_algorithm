{
 "cells": [
  {
   "cell_type": "code",
   "execution_count": 6,
   "metadata": {},
   "outputs": [],
   "source": [
    "def solution(survey, choices):\n",
    "    # survey = [\"AN\", \"CF\", \"MJ\", \"RT\", \"NA\"]\n",
    "    # choices = [5, 3, 2, 7, 5]  : 1 <= .. <= 7\n",
    "    case = {\n",
    "        \"R\":0,\n",
    "        \"T\":0,\n",
    "        \"C\":0,\n",
    "        \"F\":0,\n",
    "        \"J\":0,\n",
    "        \"M\":0,\n",
    "        \"A\":0,\n",
    "        \"N\":0,\n",
    "    }\n",
    "\n",
    "    for serve in enumerate(survey):\n",
    "        # serve = (0, \"AN\")\n",
    "        question_number = serve[0]\n",
    "        question = serve[1]\n",
    "        \n",
    "        # 4번 문항 기준\n",
    "        if choices[question_number] == 4:\n",
    "            continue\n",
    "        elif choices[question_number] < 4:\n",
    "            # 비동의 : 질문 앞 단어\n",
    "            # 1, 2, 3\n",
    "            if choices[question_number] == 1:\n",
    "                point = 3\n",
    "            elif choices[question_number] == 2:\n",
    "                point = 2\n",
    "            elif choices[question_number] == 3:\n",
    "                point = 1\n",
    "            case[question[0]] += point # 질문 앞\n",
    "        else:\n",
    "            # 동의 : 질문 앞 단어\n",
    "            # 5, 6, 7\n",
    "            if choices[question_number] == 5:\n",
    "                point = 1\n",
    "            elif choices[question_number] == 6:\n",
    "                point = 2\n",
    "            elif choices[question_number] == 7:\n",
    "                point = 3\n",
    "            case[question[1]] += point\n",
    "    \n",
    "    # 각 분야별 종합 answer 만들기\n",
    "    answer = '' \n",
    "    if case[\"R\"] >= case[\"T\"] :\n",
    "        answer += \"R\"\n",
    "    else:\n",
    "        answer += \"T\"\n",
    "    \n",
    "    if case[\"C\"] >= case[\"F\"]:\n",
    "        answer += \"C\"\n",
    "    else:\n",
    "        answer += \"F\"\n",
    "\n",
    "    if case[\"J\"] >= case[\"M\"]:\n",
    "        answer += \"J\"\n",
    "    else:\n",
    "        answer += \"M\"\n",
    "\n",
    "    if case[\"A\"] >= case[\"N\"]:\n",
    "        answer += \"A\"\n",
    "    else:\n",
    "        answer += \"N\"\n",
    "    \n",
    "    return answer\n"
   ]
  },
  {
   "cell_type": "code",
   "execution_count": 7,
   "metadata": {},
   "outputs": [
    {
     "data": {
      "text/plain": [
       "'RCJA'"
      ]
     },
     "execution_count": 7,
     "metadata": {},
     "output_type": "execute_result"
    }
   ],
   "source": [
    "solution([\"TR\", \"RT\", \"TR\"], [7, 1, 3])"
   ]
  },
  {
   "cell_type": "code",
   "execution_count": 4,
   "metadata": {},
   "outputs": [],
   "source": [
    "survey = [\"TR\", \"RT\", \"TR\", \"JA\", \"CF\", \"AT\" \"RC\"]\n",
    "choices = [1, 3, 5, 6, 2, 2 ,5]\n",
    "\n",
    "case = {\n",
    "        \"R\":0,\n",
    "        \"T\":0,\n",
    "        \"C\":0,\n",
    "        \"F\":0,\n",
    "        \"J\":0,\n",
    "        \"M\":0,\n",
    "        \"A\":0,\n",
    "        \"N\":0,\n",
    "    }"
   ]
  },
  {
   "cell_type": "code",
   "execution_count": 5,
   "metadata": {},
   "outputs": [
    {
     "name": "stdout",
     "output_type": "stream",
     "text": [
      "{'R': 8, 'T': 1, 'C': 2, 'F': 0, 'J': 0, 'M': 0, 'A': 8, 'N': 0}\n"
     ]
    }
   ],
   "source": [
    "for serve in enumerate(survey):\n",
    "        # serve = (0, \"AN\")\n",
    "        question_number = serve[0]\n",
    "        question = serve[1]\n",
    "        \n",
    "        # 4번 문항 기준\n",
    "        if choices[question_number] == 4:\n",
    "            continue\n",
    "        elif choices[question_number] < 4:\n",
    "            # 비동의 : 질문 앞 단어\n",
    "            point = choices[question_number]\n",
    "            case[question[0]] += point # 질문 앞\n",
    "        else:\n",
    "            point = choices[question_number]\n",
    "            case[question[1]] += point\n",
    "print(case)"
   ]
  },
  {
   "cell_type": "code",
   "execution_count": 93,
   "metadata": {},
   "outputs": [],
   "source": [
    "# 2 \n",
    "from collections import deque\n",
    "\n",
    "def que1_move(i, que1, que2):\n",
    "    # q1에서 꺼내서 q1 점점 작아짐.\n",
    "    q1 = deque(que1)\n",
    "    q2 = deque(que2)\n",
    "\n",
    "    for _ in range(i):\n",
    "        q = q1.popleft()\n",
    "        q2.append(q)\n",
    "    return q1, q2\n",
    "\n",
    "def solution(queue1:list, queue2:list):\n",
    "    save = float('inf') # 무한\n",
    "\n",
    "    total = sum(queue1) + sum(queue2)\n",
    "\n",
    "    # 홀수 -1 리턴\n",
    "    if total % 2 == 1:\n",
    "        return -1\n",
    "\n",
    "    total = total / 2\n",
    "\n",
    "    # 큐1이 한 개가 남는 횟수까지 반복\n",
    "    for i in range(len(queue1)):\n",
    "        # i = 0, 1, 2, 3\n",
    "        count = i\n",
    "        nq1, nq2 = que1_move(count, queue1, queue2) # 새 que 객체 생성\n",
    "\n",
    "        # 합 확인\n",
    "        if sum(nq1) == total and count < save:\n",
    "            save = count\n",
    "\n",
    "        while len(nq2) != 0: \n",
    "            q2 = nq2.popleft()\n",
    "            nq1.append(q2)\n",
    "            count += 1\n",
    "            if sum(nq1) == total and count < save:\n",
    "                save = count\n",
    "                     \n",
    "    if save == float('inf'):\n",
    "        return -1\n",
    "\n",
    "    return save"
   ]
  },
  {
   "cell_type": "code",
   "execution_count": 95,
   "metadata": {},
   "outputs": [
    {
     "data": {
      "text/plain": [
       "-1"
      ]
     },
     "execution_count": 95,
     "metadata": {},
     "output_type": "execute_result"
    }
   ],
   "source": [
    "solution([1, 2, 1, 2], [1, 10, 1, 2])"
   ]
  },
  {
   "cell_type": "code",
   "execution_count": null,
   "metadata": {},
   "outputs": [],
   "source": [
    "while len(queue1) != 0:\n",
    "        nq1, nq2 = que1_move(count, queue1, queue2) # 새 que 객체 생성\n",
    "\n",
    "        # 합 확인\n",
    "        if sum(nq1) == total and count < save:\n",
    "            save = count\n",
    "        if len(nq1) > 1: # 새 q1이 길이가 1보다 크면 반복한다.\n",
    "            save = recursive(nq1, nq2, total, save, count)\n",
    "\n",
    "        # nq1 길이가 1 이하 일때 수행\n",
    "        while len(nq2) != 0: \n",
    "            q2 = nq2.popleft()\n",
    "            nq1.append(q2)\n",
    "            count += 1\n",
    "            if sum(nq1) == total and count < save:\n",
    "                save = count\n",
    "            "
   ]
  },
  {
   "cell_type": "code",
   "execution_count": null,
   "metadata": {},
   "outputs": [],
   "source": [
    "def recursive(queue1, queue2, total, save, count=0):\n",
    "    q1 = deque(queue1)\n",
    "    q2 = deque(queue2)\n",
    "\n",
    "    for i in range(q1):\n",
    "        for j in range(q2):\n",
    "            if i < len(q1):\n",
    "                q = q1.popleft()\n",
    "                q2.append(q)\n",
    "                count += 1\n",
    "                if sum(q1) == total and count < save:\n",
    "                    save = count\n",
    "                \n",
    "\n",
    "\n",
    "def solution(queue1:list, queue2:list):\n",
    "    save = float('inf') # 무한\n",
    "\n",
    "    total = sum(queue1) + sum(queue2)\n",
    "\n",
    "    # 홀수 -1 리턴\n",
    "    if total % 2 == 1:\n",
    "        return -1\n",
    "\n",
    "    total = total / 2\n",
    "    \n",
    "    if len(queue1) > 1:\n",
    "        save = recursive()\n",
    "\n",
    "    if save == float('inf'):\n",
    "        return -1\n",
    "    else:\n",
    "        return save"
   ]
  },
  {
   "cell_type": "code",
   "execution_count": null,
   "metadata": {},
   "outputs": [],
   "source": []
  },
  {
   "cell_type": "code",
   "execution_count": null,
   "metadata": {},
   "outputs": [],
   "source": []
  },
  {
   "cell_type": "code",
   "execution_count": null,
   "metadata": {},
   "outputs": [],
   "source": []
  },
  {
   "cell_type": "code",
   "execution_count": null,
   "metadata": {},
   "outputs": [],
   "source": []
  },
  {
   "cell_type": "code",
   "execution_count": 11,
   "metadata": {},
   "outputs": [
    {
     "data": {
      "text/plain": [
       "30"
      ]
     },
     "execution_count": 11,
     "metadata": {},
     "output_type": "execute_result"
    }
   ],
   "source": [
    "# 3 모든 문제를 풀 수 있는 알고력, 코딩력을 갖게 하는 최단 시간을 구하기\n",
    "from collections import defaultdict\n",
    "\n",
    "def solution(alp, cop, problems):\n",
    "    # alp : 현재 알고력\n",
    "    # cop : 현재 코딩력\n",
    "\n",
    "    # 모든 문제의 알고력, 코딩력, 경험치, 시간을 모두 파악\n",
    "    graph = defaultdict(list)\n",
    "    for problem in problems:\n",
    "        graph[\"alp_req\"] += [problem[0]] # 문제의 알고력\n",
    "        graph[\"cop_req\"] += [problem[1]] # 문제의 코딩력\n",
    "        graph[\"alp_exp\"] += [problem[2]] # 알고 경험치\n",
    "        graph[\"cop_exp\"] += [problem[3]] # 코딩 경험치\n",
    "        graph[\"cost\"] += [problem[4]] # 문제 푸는데 걸리는 시간\n",
    "        graph[\"tree\"] += [(problem[2], problem[3])] # 경험치\n",
    "\n",
    "    # 모든 문제 중 가장 높은 알고력, 코딩력을 찾는다.\n",
    "    max_alp = max(graph[\"alp_req\"])\n",
    "    max_cop = max(graph[\"cop_req\"])\n",
    "\n",
    "    # 실력을 향상시키는 최단 시간 찾기\n",
    "    ma = [max_alp] * max_alp\n",
    "    mc = [max_cop] * max_cop\n",
    "\n",
    "    ma[0] = alp\n",
    "    mc[0] = cop\n",
    " \n",
    "    for i in range(len(graph[\"cost\"])): # 종류\n",
    "\n",
    "\n",
    "    \n",
    "\n",
    "\n",
    "    answer = 0\n",
    "    return answer\n"
   ]
  },
  {
   "cell_type": "markdown",
   "metadata": {},
   "source": [
    "XX산은 n개의 지점으로 이루어져 있습니다. 각 지점은 1부터 n까지 번호가 붙어있으며, 출입구, 쉼터, 혹은 산봉우리입니다. 각 지점은 양방향 통행이 가능한 등산로로 연결되어 있으며, 서로 다른 지점을 이동할 때 이 등산로를 이용해야 합니다. 이때, 등산로별로 이동하는데 일정 시간이 소요됩니다.\n",
    "등산코스는 방문할 지점 번호들을 순서대로 나열하여 표현할 수 있습니다.\n",
    "예를 들어 1-2-3-2-1 으로 표현하는 등산코스는 1번지점에서 출발하여 2번, 3번, 2번, 1번 지점을 순서대로 방문한다는 뜻입니다.\n",
    "등산코스를 따라 이동하는 중 쉼터 혹은 산봉우리를 방문할 때마다 휴식을 취할 수 있으며, 휴식 없이 이동해야 하는 시간 중 가장 긴 시간을 해당 등산코스의 intensity라고 부르기로 합니다.\n",
    "당신은 XX산의 출입구 중 한 곳에서 출발하여 산봉우리 중 한 곳만 방문한 뒤 다시 원래의 출입구로 돌아오는 등산코스를 정하려고 합니다. 다시 말해, 등산코스에서 출입구는 처음과 끝에 한 번씩, 산봉우리는 한 번만 포함되어야 합니다.\n",
    "당신은 이러한 규칙을 지키면서 intensity가 최소가 되도록 등산코스를 정하려고 합니다.\n",
    "다음은 XX산의 지점과 등산로를 그림으로 표현한 예시입니다."
   ]
  },
  {
   "cell_type": "code",
   "execution_count": null,
   "metadata": {},
   "outputs": [],
   "source": []
  },
  {
   "cell_type": "code",
   "execution_count": null,
   "metadata": {},
   "outputs": [],
   "source": []
  }
 ],
 "metadata": {
  "interpreter": {
   "hash": "31f2aee4e71d21fbe5cf8b01ff0e069b9275f58929596ceb00d14d90e3e16cd6"
  },
  "kernelspec": {
   "display_name": "Python 3.8.9 64-bit",
   "language": "python",
   "name": "python3"
  },
  "language_info": {
   "codemirror_mode": {
    "name": "ipython",
    "version": 3
   },
   "file_extension": ".py",
   "mimetype": "text/x-python",
   "name": "python",
   "nbconvert_exporter": "python",
   "pygments_lexer": "ipython3",
   "version": "3.9.7"
  },
  "orig_nbformat": 4
 },
 "nbformat": 4,
 "nbformat_minor": 2
}
