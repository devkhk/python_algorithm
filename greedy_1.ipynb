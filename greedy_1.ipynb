{
 "cells": [
  {
   "cell_type": "markdown",
   "metadata": {},
   "source": [
    "#### 문제 설명\n",
    "점심시간에 도둑이 들어, 일부 학생이 체육복을 도난당했습니다. 다행히 여벌 체육복이 있는 학생이 이들에게 체육복을 빌려주려 합니다. 학생들의 번호는 체격 순으로 매겨져 있어, 바로 앞번호의 학생이나 바로 뒷번호의 학생에게만 체육복을 빌려줄 수 있습니다. 예를 들어, 4번 학생은 3번 학생이나 5번 학생에게만 체육복을 빌려줄 수 있습니다. 체육복이 없으면 수업을 들을 수 없기 때문에 체육복을 적절히 빌려 최대한 많은 학생이 체육수업을 들어야 합니다.\n",
    "\n",
    "전체 학생의 수 n, 체육복을 도난당한 학생들의 번호가 담긴 배열 lost, 여벌의 체육복을 가져온 학생들의 번호가 담긴 배열 reserve가 매개변수로 주어질 때, 체육수업을 들을 수 있는 학생의 최댓값을 return 하도록 solution 함수를 작성해주세요.\n",
    "\n",
    "#### 제한사항\n",
    "- 전체 학생의 수는 2명 이상 30명 이하입니다.\n",
    "- 체육복을 도난당한 학생의 수는 1명 이상 n명 이하이고 중복되는 번호는 없습니다.\n",
    "- 여벌의 체육복을 가져온 학생의 수는 1명 이상 n명 이하이고 중복되는 번호는 없습니다.\n",
    "- 여벌 체육복이 있는 학생만 다른 학생에게 체육복을 빌려줄 수 있습니다.\n",
    "- 여벌 체육복을 가져온 학생이 체육복을 도난당했을 수 있습니다. 이때 이 학생은 체육복을 하나만 도난당했다고 가정하며, 남은 체육복이 하나이기에 다른 학생에게는 체육복을 빌려줄 수 없습니다.\n",
    "\n",
    "#### 입출력 예\n",
    "|n|lost|reserve|return|\n",
    "|---|---|---|---|\n",
    "|5|[2, 4]|[1, 3, 5]|5|\n",
    "|5|[2, 4]|[3]|4|\n",
    "|3|[3]|[1]|2|\n",
    "\n",
    "#### 입출력 예 설명\n",
    "#### 예제 #1\n",
    "- 1번 학생이 2번 학생에게 체육복을 빌려주고, 3번 학생이나 5번 학생이 4번 학생에게 체육복을 빌려주면 학생 5명이 체육수업을 들을 수 있습니다.\n",
    "\n",
    "#### 예제 #2\n",
    "- 3번 학생이 2번 학생이나 4번 학생에게 체육복을 빌려주면 학생 4명이 체육수업을 들을 수 있습니다."
   ]
  },
  {
   "cell_type": "code",
   "execution_count": 37,
   "metadata": {},
   "outputs": [],
   "source": [
    "def solution(n:int, lost:list, reserve:list):\n",
    "    answer = 0\n",
    "    # n : 전체 학생수\n",
    "    # lost : 체육복을 잃어버린 학생의 고유번호\n",
    "    # reserve : 여분의 체육복이 있는 학생의 고유번호\n",
    "    # return : 수업을 들을 수 있는 학생의 수\n",
    "    \n",
    "    students = set([ num for num in range(1, n+1) if num not in lost ]) # 현재 수업을 들을 수 있는 학생들\n",
    "    print(\"수업 참여 가능 인원 : \",students,\"\\n\")\n",
    "\n",
    "    # 수업 참여인원 vs 빌려줄 수 있는 학생\n",
    "    # 누구를 케어할지의 문제\n",
    "\n",
    "    # 자기 자신 여분 체크\n",
    "    ##################\n",
    "    reserved = [] # 빌려 줄 여력이 있는 학생들\n",
    "    for r in reserve :\n",
    "        # 만약 잃어버린 학생과 여분이 있는 학생이 같다면 수업에 참여 할 수 있다.\n",
    "        # 그 외는 여분이 있고 이미 수업에 참여할수 있으므로 빌려줄 여력이 있는 학생들 리스트인 reserved에 담는다. \n",
    "        if r in lost :\n",
    "            students.add(r)\n",
    "            lost.remove(r)\n",
    "        else:\n",
    "            reserved.append(r)\n",
    "    \n",
    "    print(\"여분이 남은 학생들 : \", reserved)\n",
    "    print(\"도움이 필요한 학생 :\", lost)\n",
    "    print(\"수업 참여 가능 인원 수정 : \", students, \"\\n\")\n",
    "\n",
    "    for r in reserved:\n",
    "        print(\"제가 빌려주겠습니다 : \", r)\n",
    "        \n",
    "        if r-1 in lost:\n",
    "            lost.remove(r-1)\n",
    "            students.add(r-1)\n",
    "            print(\"케어r-1 : \", r-1)\n",
    "            print(\"현재 참여 가능인원 : \", sorted(students))\n",
    "            print(\"*\"*20)\n",
    "        elif r+1 in lost:\n",
    "            lost.remove(r+1)\n",
    "            students.add(r+1)\n",
    "            print(\"케어r+1 : \", r+1)\n",
    "            print(\"현재 참여 가능인원 : \", sorted(students))\n",
    "            print(\"*\"*20)\n",
    "\n",
    "    print(\"최종 수업참여인원 : \", list(students))\n",
    "    return len(students)"
   ]
  },
  {
   "cell_type": "code",
   "execution_count": 53,
   "metadata": {},
   "outputs": [],
   "source": [
    "def solution(n:int, lost:list, reserve:list):\n",
    "\n",
    "    # 그리드, 부분이 전체를 해결한다.\n",
    "\n",
    "    students = set([ s for s in range(1, n+1) if s not in lost ])\n",
    "    print(students)\n",
    "\n",
    "    # 잃어버린 사람 케어 가능한지 체크하고 가능하면 수업을 들을 수 있는 학생 리스트에 추가.\n",
    "    for los in lost:\n",
    "        if los in reserve: # 자기 자신 케어 가능한지 먼저 체크\n",
    "            reserve.remove(los)\n",
    "            students.add(los)\n",
    "        elif los-1 in reserve: # 자기 앞사람이 도와줄 수 있는지 체크\n",
    "            reserve.remove(los-1)\n",
    "            students.add(los)\n",
    "        elif los+1 in reserve:\n",
    "            reserve.remove(los+1)\n",
    "            students.add(los)\n",
    "    \n",
    "    print(\"\\n\",\"최종 수업 참여 인원 : \", students)\n",
    "    return len(students)"
   ]
  },
  {
   "cell_type": "code",
   "execution_count": 59,
   "metadata": {},
   "outputs": [
    {
     "name": "stdout",
     "output_type": "stream",
     "text": [
      "{1, 2, 4, 6, 8, 10}\n",
      "\n",
      " 최종 수업 참여 인원 :  {1, 2, 3, 4, 5, 6, 7, 8, 9, 10}\n"
     ]
    },
    {
     "data": {
      "text/plain": [
       "10"
      ]
     },
     "execution_count": 59,
     "metadata": {},
     "output_type": "execute_result"
    }
   ],
   "source": [
    "solution(10, [3, 5, 7, 9], [1, 3,4,6,8 ]) # 총인원, 잃어버린, 케어체육복"
   ]
  },
  {
   "cell_type": "code",
   "execution_count": null,
   "metadata": {},
   "outputs": [],
   "source": []
  },
  {
   "cell_type": "code",
   "execution_count": null,
   "metadata": {},
   "outputs": [],
   "source": []
  }
 ],
 "metadata": {
  "interpreter": {
   "hash": "2be5faf79681da6f2a61fdfdd5405d65d042280f7fba6178067603e3a2925119"
  },
  "kernelspec": {
   "display_name": "Python 3.10.0 64-bit",
   "language": "python",
   "name": "python3"
  },
  "language_info": {
   "name": "python",
   "version": "3.10.0"
  },
  "orig_nbformat": 4
 },
 "nbformat": 4,
 "nbformat_minor": 2
}
