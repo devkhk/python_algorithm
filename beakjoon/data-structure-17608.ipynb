{
 "cells": [
  {
   "cell_type": "markdown",
   "metadata": {},
   "source": [
    "N개의 막대기에 대한 높이 정보가 주어질 때, 오른쪽에서 보아서 몇 개가 보이는지를 알아내는 프로그램을 작성하려고 한다.\n",
    "\n",
    "## 입력\n",
    "첫 번째 줄에는 막대기의 개수를 나타내는 정수 N (2 ≤ N ≤ 100,000)이 주어지고 이어지는 N줄 각각에는 막대기의 높이를 나타내는 정수 h(1 ≤ h ≤ 100,000)가 주어진다.\n",
    "\n",
    "## 출력\n",
    "오른쪽에서 N개의 막대기를 보았을 때, 보이는 막대기의 개수를 출력한다."
   ]
  },
  {
   "cell_type": "code",
   "execution_count": null,
   "metadata": {},
   "outputs": [],
   "source": [
    "from sys import stdin # 주피터 노트북은 사용불가\n",
    "inn = stdin.readline\n",
    "ls = [int(inn()) for n in range(int(inn()))]\n",
    "count = 1\n",
    "std = ls.pop()\n",
    "while ls:\n",
    "    num = ls.pop()\n",
    "    if num > std:\n",
    "        count += 1\n",
    "        std = num\n",
    "print(count)"
   ]
  },
  {
   "cell_type": "code",
   "execution_count": 18,
   "metadata": {},
   "outputs": [
    {
     "name": "stdout",
     "output_type": "stream",
     "text": [
      "2\n"
     ]
    }
   ],
   "source": [
    "ls = [int(input()) for n in range(int(input()))]\n",
    "count = 1\n",
    "std = ls.pop()\n",
    "while ls:\n",
    "    num = ls.pop()\n",
    "    if num > std:\n",
    "        count += 1\n",
    "        std = num\n",
    "print(count)"
   ]
  },
  {
   "cell_type": "code",
   "execution_count": null,
   "metadata": {},
   "outputs": [],
   "source": []
  }
 ],
 "metadata": {
  "interpreter": {
   "hash": "be805ae34670cdb3c948a255e52b4c6cf927efb8c3bd1571b8421aaa53085dfe"
  },
  "kernelspec": {
   "display_name": "Python 3.8.8 ('base')",
   "language": "python",
   "name": "python3"
  },
  "language_info": {
   "codemirror_mode": {
    "name": "ipython",
    "version": 3
   },
   "file_extension": ".py",
   "mimetype": "text/x-python",
   "name": "python",
   "nbconvert_exporter": "python",
   "pygments_lexer": "ipython3",
   "version": "3.8.8"
  },
  "orig_nbformat": 4
 },
 "nbformat": 4,
 "nbformat_minor": 2
}
