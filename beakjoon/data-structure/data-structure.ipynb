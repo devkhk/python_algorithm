{
 "cells": [
  {
   "cell_type": "markdown",
   "metadata": {},
   "source": [
    "## 자료구조\n",
    "\n",
    "- 배열, 백터 연결리스트\n",
    "- 스택 , 큐\n",
    "- 우선순위 큐\n",
    "- 맵(dictionary), 집합(set) - hash"
   ]
  },
  {
   "cell_type": "code",
   "execution_count": 4,
   "metadata": {},
   "outputs": [
    {
     "name": "stdout",
     "output_type": "stream",
     "text": [
      "[-1, 24, 2, 456, 33, 5]\n",
      "-1\n",
      "[2, 24, 5, 456, 33]\n",
      "2\n",
      "[5, 24, 33, 456]\n",
      "5\n",
      "[24, 456, 33]\n",
      "24\n",
      "[33, 456]\n",
      "33\n",
      "[456]\n",
      "456\n",
      "[]\n"
     ]
    }
   ],
   "source": [
    "# 우선 순위 큐 \n",
    "# 이진 트리 Heap 구조\n",
    "# heapque\n",
    "# O(logN)\n",
    "# 파이썬은 min-heap 제공 : root node가 가장 작은 값\n",
    "\n",
    "import heapq as hq\n",
    "\n",
    "pq = []\n",
    "hq.heappush(pq, 456)\n",
    "hq.heappush(pq, 5)\n",
    "hq.heappush(pq, -1)\n",
    "hq.heappush(pq, 24)\n",
    "hq.heappush(pq, 33)\n",
    "hq.heappush(pq, 2)\n",
    "\n",
    "print(pq)\n",
    "\n",
    "while pq:\n",
    "    print(hq.heappop(pq)) # 힙팝을 하면 자동으로 우선순위 root node 갱신\n",
    "    print(pq)"
   ]
  },
  {
   "cell_type": "code",
   "execution_count": null,
   "metadata": {},
   "outputs": [],
   "source": []
  }
 ],
 "metadata": {
  "interpreter": {
   "hash": "be805ae34670cdb3c948a255e52b4c6cf927efb8c3bd1571b8421aaa53085dfe"
  },
  "kernelspec": {
   "display_name": "Python 3.8.8 ('base')",
   "language": "python",
   "name": "python3"
  },
  "language_info": {
   "codemirror_mode": {
    "name": "ipython",
    "version": 3
   },
   "file_extension": ".py",
   "mimetype": "text/x-python",
   "name": "python",
   "nbconvert_exporter": "python",
   "pygments_lexer": "ipython3",
   "version": "3.8.8"
  },
  "orig_nbformat": 4
 },
 "nbformat": 4,
 "nbformat_minor": 2
}
