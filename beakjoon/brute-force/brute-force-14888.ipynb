{
 "cells": [
  {
   "cell_type": "markdown",
   "metadata": {},
   "source": [
    "## 문제 \n",
    "N개의 수로 이루어진 수열 A1, A2, ..., AN이 주어진다. 또, 수와 수 사이에 끼워넣을 수 있는 N-1개의 연산자가 주어진다. 연산자는 덧셈(+), 뺄셈(-), 곱셈(×), 나눗셈(÷)으로만 이루어져 있다.\n",
    "\n",
    "우리는 수와 수 사이에 연산자를 하나씩 넣어서, 수식을 하나 만들 수 있다. 이때, 주어진 수의 순서를 바꾸면 안 된다.\n",
    "\n",
    "예를 들어, 6개의 수로 이루어진 수열이 1, 2, 3, 4, 5, 6이고, 주어진 연산자가 덧셈(+) 2개, 뺄셈(-) 1개, 곱셈(×) 1개, 나눗셈(÷) 1개인 경우에는 총 60가지의 식을 만들 수 있다. 예를 들어, 아래와 같은 식을 만들 수 있다.\n",
    "\n",
    "- 1+2+3-4×5÷6\n",
    "- 1÷2+3+4-5×6\n",
    "- 1+2÷3×4-5+6\n",
    "- 1÷2×3-4+5+6\n",
    "\n",
    "식의 계산은 연산자 우선 순위를 무시하고 앞에서부터 진행해야 한다. 또, 나눗셈은 정수 나눗셈으로 몫만 취한다. 음수를 양수로 나눌 때는 C++14의 기준을 따른다. 즉, 양수로 바꾼 뒤 몫을 취하고, 그 몫을 음수로 바꾼 것과 같다. 이에 따라서, 위의 식 4개의 결과를 계산해보면 아래와 같다.\n",
    "\n",
    "- 1+2+3-4×5÷6 = 1\n",
    "- 1÷2+3+4-5×6 = 12\n",
    "- 1+2÷3×4-5+6 = 5\n",
    "- 1÷2×3-4+5+6 = 7\n",
    "\n",
    "N개의 수와 N-1개의 연산자가 주어졌을 때, 만들 수 있는 식의 결과가 최대인 것과 최소인 것을 구하는 프로그램을 작성하시오.\n"
   ]
  },
  {
   "cell_type": "markdown",
   "metadata": {},
   "source": [
    "## 입력\n",
    "첫째 줄에 수의 개수 N(2 ≤ N ≤ 11)가 주어진다. 둘째 줄에는 A1, A2, ..., AN이 주어진다. (1 ≤ Ai ≤ 100) 셋째 줄에는 합이 N-1인 4개의 정수가 주어지는데, 차례대로 덧셈(+)의 개수, 뺄셈(-)의 개수, 곱셈(×)의 개수, 나눗셈(÷)의 개수이다. "
   ]
  },
  {
   "cell_type": "markdown",
   "metadata": {},
   "source": [
    "## 출력\n",
    "첫째 줄에 만들 수 있는 식의 결과의 최댓값을, 둘째 줄에는 최솟값을 출력한다. 연산자를 어떻게 끼워넣어도 항상 -10억보다 크거나 같고, 10억보다 작거나 같은 결과가 나오는 입력만 주어진다. 또한, 앞에서부터 계산했을 때, 중간에 계산되는 식의 결과도 항상 -10억보다 크거나 같고, 10억보다 작거나 같다."
   ]
  },
  {
   "cell_type": "code",
   "execution_count": 11,
   "metadata": {},
   "outputs": [
    {
     "data": {
      "text/plain": [
       "10"
      ]
     },
     "execution_count": 11,
     "metadata": {},
     "output_type": "execute_result"
    }
   ],
   "source": [
    "from functools import reduce\n",
    "ls = [1, 2, 3 ,4, 5, 6]\n",
    "v = [2, 1, 1, 1] # [+, -, *, //]\n",
    "#    0, 1, 2, 3\n",
    "def f(v):\n",
    "    pass\n"
   ]
  },
  {
   "cell_type": "code",
   "execution_count": 69,
   "metadata": {},
   "outputs": [
    {
     "name": "stdout",
     "output_type": "stream",
     "text": [
      "54\n",
      "-24\n"
     ]
    }
   ],
   "source": [
    "from itertools import permutations\n",
    "\n",
    "# 입력 받기\n",
    "N = int(input())\n",
    "vectors = list(map(int, input().split()))\n",
    "operators_num = list(map(int, input().split()))\n",
    "operators = []\n",
    "results = []\n",
    "\n",
    "# 연산 담기\n",
    "operators += [ \"+\" for _ in range(operators_num[0]) if operators_num[0] != 0 ]\n",
    "operators += [ \"-\" for _ in range(operators_num[1]) if operators_num[1] != 0 ]\n",
    "operators += [ \"*\" for _ in range(operators_num[2]) if operators_num[2] != 0 ]\n",
    "operators += [ \"//\" for _ in range(operators_num[3]) if operators_num[3] != 0 ]\n",
    "\n",
    "def f(cal, a, b):\n",
    "    if cal == '+':\n",
    "        return a + b\n",
    "    elif cal == '-':\n",
    "        return a - b\n",
    "    elif cal == '*':\n",
    "        return a * b\n",
    "    else:\n",
    "        if a < 0:\n",
    "            return -(-a // b)\n",
    "        else:\n",
    "            return a // b\n",
    "\n",
    "def reduce_func(operators, vectors):\n",
    "    vector_ls = vectors[:]\n",
    "    result = vector_ls[0]\n",
    "    del vector_ls[0]\n",
    "    for num, cal in zip(vector_ls, operators):\n",
    "        result = f(cal, result, num)\n",
    "    return result\n",
    "\n",
    "per = [p for p in permutations(operators, len(operators))]\n",
    "per = set(per)\n",
    "\n",
    "for p in per:\n",
    "    results.append(reduce_func(p, vectors))\n",
    "results = list(set(results))\n",
    "results.sort()\n",
    "\n",
    "print(results[-1])\n",
    "print(results[0])"
   ]
  },
  {
   "cell_type": "code",
   "execution_count": 75,
   "metadata": {},
   "outputs": [
    {
     "name": "stdout",
     "output_type": "stream",
     "text": [
      "vector :  [3, 4, 5]\n",
      "operators :  [1, 0, 1, 0]\n",
      "[0, 0, 1, 0] [35]\n",
      "[1, 0, 1, 0] [35]\n",
      "[1, 0, 0, 0] [35, 17]\n",
      "[1, 0, 1, 0] [35, 17]\n",
      "35\n",
      "17\n"
     ]
    }
   ],
   "source": [
    "n=int(input())\n",
    "vectors=list(map(int,input().split()))\n",
    "operators=list(map(int,input().split()))\n",
    "results=[]\n",
    "print(f\"vector :  {vectors}\")\n",
    "print(f\"operators :  {operators}\")\n",
    "\n",
    "def divide(a, b):\n",
    "    if a < 0:\n",
    "        return -(-a // b)\n",
    "    else:\n",
    "        return a // b\n",
    "\n",
    "def back(i, res):\n",
    "    if i == n:\n",
    "        results.append(res)\n",
    "        return\n",
    "    for j in range(4):\n",
    "        if operators[j] > 0:\n",
    "            operators[j] -= 1\n",
    "            if j==0: # +\n",
    "                back(i + 1, res + vectors[i])\n",
    "            elif j==1: # -\n",
    "                back(i + 1, res - vectors[i])\n",
    "            elif j==2: # *\n",
    "                back(i + 1, res * vectors[i])\n",
    "            else: # //\n",
    "                back(i + 1, divide(res, vectors[i]))\n",
    "            operators[j] += 1\n",
    "            print(operators, results)\n",
    "\n",
    "back(1, vectors[0])\n",
    "\n",
    "print(max(results))\n",
    "print(min(results))"
   ]
  },
  {
   "cell_type": "code",
   "execution_count": null,
   "metadata": {},
   "outputs": [],
   "source": []
  }
 ],
 "metadata": {
  "interpreter": {
   "hash": "be805ae34670cdb3c948a255e52b4c6cf927efb8c3bd1571b8421aaa53085dfe"
  },
  "kernelspec": {
   "display_name": "Python 3.8.8 ('base')",
   "language": "python",
   "name": "python3"
  },
  "language_info": {
   "codemirror_mode": {
    "name": "ipython",
    "version": 3
   },
   "file_extension": ".py",
   "mimetype": "text/x-python",
   "name": "python",
   "nbconvert_exporter": "python",
   "pygments_lexer": "ipython3",
   "version": "3.8.8"
  },
  "orig_nbformat": 4
 },
 "nbformat": 4,
 "nbformat_minor": 2
}
