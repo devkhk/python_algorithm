{
 "cells": [
  {
   "cell_type": "markdown",
   "metadata": {},
   "source": [
    "## 체스판 다시 칠하기 1018\n"
   ]
  },
  {
   "cell_type": "code",
   "execution_count": null,
   "metadata": {},
   "outputs": [],
   "source": [
    "# 입력\n",
    "N, M = map(int,input().split())\n",
    "board = []\n",
    "answer = float(\"inf\")\n",
    "\n",
    "for _ in range(N):\n",
    "    board.append(input())\n",
    "\n",
    "# 보드 색칠 함수\n",
    "def paint_board(selected_board):\n",
    "    global answer\n",
    "    for n in range(2):\n",
    "        count = 0\n",
    "        if n == 0 : \n",
    "            standard_color = \"B\" \n",
    "        else:\n",
    "            standard_color = \"W\"\n",
    "        for i in range(8): # row\n",
    "            for j in range(8):\n",
    "                if i % 2 == 0 and j % 2 == 0 and selected_board[i][j] != standard_color:\n",
    "                    count += 1\n",
    "                elif i % 2 == 0 and j % 2 == 1 and selected_board[i][j] == standard_color:\n",
    "                    count += 1\n",
    "                elif i % 2 == 1 and j % 2 == 0 and selected_board[i][j] == standard_color:\n",
    "                    count += 1\n",
    "                elif i % 2 == 1 and j % 2 == 1 and selected_board[i][j] != standard_color:\n",
    "                    count += 1\n",
    "        if count < answer:\n",
    "            answer = count\n",
    "\n",
    "# 보드 선택\n",
    "for y in range(N-7):\n",
    "    for x in range(M-7):\n",
    "        selected_board = [row[x:x+8] for row in board[y:y+8]]\n",
    "        # 보드 색칠\n",
    "        paint_board(selected_board)\n",
    "\n",
    "if answer == float(\"inf\"):\n",
    "    answer = 0\n",
    "print(answer)"
   ]
  },
  {
   "cell_type": "code",
   "execution_count": null,
   "metadata": {},
   "outputs": [],
   "source": [
    "# 입력\n",
    "N, M = map(int,input().split())\n",
    "board = [input() for _ in range(N)]\n",
    "answer = 999\n",
    "\n",
    "def fill(x, y, bw):\n",
    "    global answer\n",
    "    cnt = 0\n",
    "    for i in range(8):\n",
    "        for j in range(8):\n",
    "            if (i + j) % 2:\n",
    "                if board[x + i][y + i] != bw:\n",
    "                    cnt += 1\n",
    "            else:\n",
    "                if board[x + i][y + i] == bw:\n",
    "                    cnt += 1\n",
    "    answer = min(answer, cnt)\n",
    "\n",
    "for i in range(N-7):\n",
    "    for j in range(M-7):\n",
    "        fill(i, j, \"B\")\n",
    "        fill(i, j, \"W\")\n",
    "\n",
    "print(answer)"
   ]
  }
 ],
 "metadata": {
  "language_info": {
   "name": "python"
  },
  "orig_nbformat": 4
 },
 "nbformat": 4,
 "nbformat_minor": 2
}
