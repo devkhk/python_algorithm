{
 "cells": [
  {
   "cell_type": "markdown",
   "metadata": {},
   "source": [
    "# 완전 탐색 Brute Force\n",
    "완전 탐색이란 모든 경우의 수를 전부 찾아서 답을 찾는 알고리즘\n",
    "\n",
    "영어로 Exhausive Search 라고 한다. \n",
    "\n",
    "trade - off  : 컴퓨팅자원 <-> 시간\n",
    "\n",
    "## 장점\n",
    "반드시 답을 찾을 수 있다.\n",
    "## 단점\n",
    "- 오래걸린다\n",
    "- 리소를 많이 잡아먹는다.\n",
    "\n",
    "## 예\n",
    "- 비밀번호 찾기 경우의 수 대입\n",
    "- 4색 정리\n"
   ]
  },
  {
   "cell_type": "markdown",
   "metadata": {},
   "source": [
    "## 정리\n",
    "1. 무식하게 모든 경우의 수를 다 살펴봐도 시간초과 나지 않을지 확인\n",
    "2. 될것 같으면 완전 탐새으로 풀이를 풀이해도 된다.\n",
    "    - 안될 것 같으면 더 효율적인 알고리즘을 생각한다. (그리디, DP, 이분법 등)"
   ]
  },
  {
   "cell_type": "code",
   "execution_count": 4,
   "metadata": {},
   "outputs": [
    {
     "name": "stdout",
     "output_type": "stream",
     "text": [
      "(1, 2, 3)\n",
      "(1, 2, 4)\n",
      "(1, 3, 2)\n",
      "(1, 3, 4)\n",
      "(1, 4, 2)\n",
      "(1, 4, 3)\n",
      "(2, 1, 3)\n",
      "(2, 1, 4)\n",
      "(2, 3, 1)\n",
      "(2, 3, 4)\n",
      "(2, 4, 1)\n",
      "(2, 4, 3)\n",
      "(3, 1, 2)\n",
      "(3, 1, 4)\n",
      "(3, 2, 1)\n",
      "(3, 2, 4)\n",
      "(3, 4, 1)\n",
      "(3, 4, 2)\n",
      "(4, 1, 2)\n",
      "(4, 1, 3)\n",
      "(4, 2, 1)\n",
      "(4, 2, 3)\n",
      "(4, 3, 1)\n",
      "(4, 3, 2)\n"
     ]
    }
   ],
   "source": [
    "# 순열\n",
    "\n",
    "from itertools import permutations\n",
    "\n",
    "v = [1, 2, 3, 4]\n",
    "\n",
    "for i in permutations(v, 3):\n",
    "    print(i)\n"
   ]
  },
  {
   "cell_type": "code",
   "execution_count": 6,
   "metadata": {},
   "outputs": [
    {
     "name": "stdout",
     "output_type": "stream",
     "text": [
      "(1, 2)\n",
      "(1, 3)\n",
      "(1, 4)\n",
      "(2, 3)\n",
      "(2, 4)\n",
      "(3, 4)\n"
     ]
    }
   ],
   "source": [
    "from itertools import combinations\n",
    "\n",
    "v = [1, 2, 3, 4]\n",
    "for i in combinations(v, 2):\n",
    "    print(i)"
   ]
  },
  {
   "cell_type": "code",
   "execution_count": null,
   "metadata": {},
   "outputs": [],
   "source": []
  }
 ],
 "metadata": {
  "interpreter": {
   "hash": "be805ae34670cdb3c948a255e52b4c6cf927efb8c3bd1571b8421aaa53085dfe"
  },
  "kernelspec": {
   "display_name": "Python 3.8.8 ('base')",
   "language": "python",
   "name": "python3"
  },
  "language_info": {
   "codemirror_mode": {
    "name": "ipython",
    "version": 3
   },
   "file_extension": ".py",
   "mimetype": "text/x-python",
   "name": "python",
   "nbconvert_exporter": "python",
   "pygments_lexer": "ipython3",
   "version": "3.8.8"
  },
  "orig_nbformat": 4
 },
 "nbformat": 4,
 "nbformat_minor": 2
}
