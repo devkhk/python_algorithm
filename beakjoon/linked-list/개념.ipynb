{
 "cells": [
  {
   "cell_type": "markdown",
   "metadata": {},
   "source": [
    "## 링크드 리스트\n",
    "\n",
    "연결리스트, 링크드 리스트는 각 노드가 데이터와 포인트를 가지고 한 줄로 연결되어 있는 방식으로 데이터를 저장하는 자료구조이다.\n",
    "데이터를 담고 있는 노드들이 연결 되어 있고, 노드의 포인터가 다음이나 이전의 노드와의 연결을 담당하게 된다."
   ]
  },
  {
   "cell_type": "code",
   "execution_count": 1,
   "metadata": {},
   "outputs": [],
   "source": [
    "class Node:\n",
    "    def __init__(self, data):\n",
    "        self.data = data\n",
    "        self.next = None"
   ]
  },
  {
   "cell_type": "code",
   "execution_count": 60,
   "metadata": {},
   "outputs": [],
   "source": [
    "class LinkedList:\n",
    "    def __init__(self, data):\n",
    "        self.head = Node(data)\n",
    "    \n",
    "    # 헤더부터 탐색, 뒤에 새로운 노드 추가\n",
    "    def append(self, data):\n",
    "        cur = self.head\n",
    "        while cur.next is not None:\n",
    "            cur = cur.next\n",
    "        cur.next = Node(data)\n",
    "\n",
    "    # 노드 값 출력\n",
    "    def print_all(self):\n",
    "        cur = self.head\n",
    "        while cur is not None:\n",
    "            print(cur.data)\n",
    "            cur = cur.next\n",
    "    \n",
    "    # 노드 인덱스 찾기\n",
    "    def get_node(self, index):\n",
    "        cnt = 0 \n",
    "        node = self.head\n",
    "        while cnt < index:\n",
    "            cnt += 1\n",
    "            node = node.next\n",
    "        return node\n",
    "\n",
    "    # 삽입\n",
    "    def add_node(self, index, value):\n",
    "        new_node = Node(value)\n",
    "        if index == 0:\n",
    "            new_node.next = self.head\n",
    "            self.head = new_node\n",
    "            return\n",
    "        node = self.get_node(index-1)\n",
    "        next_node = node.next\n",
    "        node.next = new_node\n",
    "        new_node.next = next_node\n"
   ]
  },
  {
   "cell_type": "code",
   "execution_count": 55,
   "metadata": {},
   "outputs": [],
   "source": [
    "linked_list = LinkedList(3)"
   ]
  },
  {
   "cell_type": "code",
   "execution_count": 56,
   "metadata": {},
   "outputs": [
    {
     "name": "stdout",
     "output_type": "stream",
     "text": [
      "3\n"
     ]
    }
   ],
   "source": [
    "linked_list.print_all()\n"
   ]
  },
  {
   "cell_type": "code",
   "execution_count": 57,
   "metadata": {},
   "outputs": [],
   "source": [
    "linked_list.append(10)"
   ]
  },
  {
   "cell_type": "code",
   "execution_count": 58,
   "metadata": {},
   "outputs": [
    {
     "name": "stdout",
     "output_type": "stream",
     "text": [
      "3\n",
      "10\n"
     ]
    }
   ],
   "source": [
    "linked_list.print_all()"
   ]
  },
  {
   "cell_type": "code",
   "execution_count": 59,
   "metadata": {},
   "outputs": [],
   "source": [
    "linked_list.get_node(2)"
   ]
  },
  {
   "cell_type": "code",
   "execution_count": null,
   "metadata": {},
   "outputs": [],
   "source": []
  }
 ],
 "metadata": {
  "kernelspec": {
   "display_name": "Python 3.8.8 ('base')",
   "language": "python",
   "name": "python3"
  },
  "language_info": {
   "codemirror_mode": {
    "name": "ipython",
    "version": 3
   },
   "file_extension": ".py",
   "mimetype": "text/x-python",
   "name": "python",
   "nbconvert_exporter": "python",
   "pygments_lexer": "ipython3",
   "version": "3.8.8"
  },
  "orig_nbformat": 4,
  "vscode": {
   "interpreter": {
    "hash": "be805ae34670cdb3c948a255e52b4c6cf927efb8c3bd1571b8421aaa53085dfe"
   }
  }
 },
 "nbformat": 4,
 "nbformat_minor": 2
}
