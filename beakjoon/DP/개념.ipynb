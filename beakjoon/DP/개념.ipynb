{
 "cells": [
  {
   "cell_type": "markdown",
   "metadata": {},
   "source": [
    "# 동적 계획법 Dynamic Programming\n",
    "\n",
    "- 문제를 쪼개서 작은 문제의 답을 구하고, 그걸로 더 큰 문제의 답을 구하는 방식\n",
    "- 분할 정복과 비슷한 느낌"
   ]
  },
  {
   "cell_type": "markdown",
   "metadata": {},
   "source": [
    "## DP 구현 2가지\n",
    "- Top-down\n",
    "    - 재귀\n",
    "    - 메모이제이션 Memoization\n",
    "\n",
    "- Bottom-up\n",
    "    - 반복문\n",
    "    - 타뷸레이션 Tabulation"
   ]
  },
  {
   "cell_type": "markdown",
   "metadata": {},
   "source": [
    "## 한번 구한 답들은 저장해둔다. Memoization\n",
    "- 부분 문제들의 답을 또 구하지 않도록 cache에 저장해둔다.\n",
    "- 존재하는 모든 부분의 답을 구하는게 아니라 필요한 부분 문제들만 구한다. Lazy-Evaluation\n",
    "- Top-down 방식에서 사용"
   ]
  },
  {
   "cell_type": "markdown",
   "metadata": {},
   "source": [
    "## 미리 다 구해둔다. Tabulation\n",
    "- 부분 문제들의 답을 미리 다 구해두면 편하다.\n",
    "- 테이블을 채워나간다는 의미라 타뷸레이션이라고 한다.\n",
    "- 필요 없는 부분 문제들까지 전부 구한다. Eager-Evaluation\n",
    "- Bottom-up 방식에서 사용"
   ]
  },
  {
   "cell_type": "markdown",
   "metadata": {},
   "source": []
  }
 ],
 "metadata": {
  "language_info": {
   "name": "python"
  },
  "orig_nbformat": 4
 },
 "nbformat": 4,
 "nbformat_minor": 2
}
