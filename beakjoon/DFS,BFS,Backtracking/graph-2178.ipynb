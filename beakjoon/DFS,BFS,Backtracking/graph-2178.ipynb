{
 "cells": [
  {
   "cell_type": "markdown",
   "metadata": {},
   "source": [
    "# 미로 탐색\n",
    "\n",
    "## 문제\n",
    "N×M 크기의 배열로 표현되는 미로가 있다.   \n",
    "\n",
    "1\t0\t1\t1\t1\t1   \n",
    "1\t0\t1\t0\t1\t0   \n",
    "1\t0\t1\t0\t1\t1   \n",
    "1\t1\t1\t0\t1\t1   \n",
    "\n",
    "미로에서 1은 이동할 수 있는 칸을 나타내고, 0은 이동할 수 없는 칸을 나타낸다. 이러한 미로가 주어졌을 때, (1, 1)에서 출발하여 (N, M)의 위치로 이동할 때 지나야 하는 최소의 칸 수를 구하는 프로그램을 작성하시오. 한 칸에서 다른 칸으로 이동할 때, 서로 인접한 칸으로만 이동할 수 있다.\n",
    "\n",
    "위의 예에서는 15칸을 지나야 (N, M)의 위치로 이동할 수 있다. 칸을 셀 때에는 시작 위치와 도착 위치도 포함한다."
   ]
  },
  {
   "cell_type": "markdown",
   "metadata": {},
   "source": [
    "### 입력\n",
    "- 첫째 줄에 두 정수 N, M(2 ≤ N, M ≤ 100)이 주어진다. 다음 N개의 줄에는 M개의 정수로 미로가 주어진다. 각각의 수들은 붙어서 입력으로 주어진다.\n",
    "\n",
    "4 6   \n",
    "101111   \n",
    "101010   \n",
    "101011   \n",
    "111011   \n",
    "\n",
    "### 출력\n",
    "- 첫째 줄에 지나야 하는 최소의 칸 수를 출력한다. 항상 도착위치로 이동할 수 있는 경우만 입력으로 주어진다.\n",
    "\n",
    "15\n"
   ]
  },
  {
   "cell_type": "code",
   "execution_count": 7,
   "metadata": {},
   "outputs": [
    {
     "ename": "ValueError",
     "evalue": "not enough values to unpack (expected 2, got 0)",
     "output_type": "error",
     "traceback": [
      "\u001b[0;31m---------------------------------------------------------------------------\u001b[0m",
      "\u001b[0;31mValueError\u001b[0m                                Traceback (most recent call last)",
      "\u001b[1;32m/Users/devkhk/Documents/python_algorithm/beakjoon/DFS,BFS,Backtracking/graph-2178.ipynb Cell 3'\u001b[0m in \u001b[0;36m<cell line: 7>\u001b[0;34m()\u001b[0m\n\u001b[1;32m      <a href='vscode-notebook-cell:/Users/devkhk/Documents/python_algorithm/beakjoon/DFS%2CBFS%2CBacktracking/graph-2178.ipynb#ch0000002?line=3'>4</a>\u001b[0m \u001b[39mfrom\u001b[39;00m \u001b[39mcollections\u001b[39;00m \u001b[39mimport\u001b[39;00m deque\n\u001b[1;32m      <a href='vscode-notebook-cell:/Users/devkhk/Documents/python_algorithm/beakjoon/DFS%2CBFS%2CBacktracking/graph-2178.ipynb#ch0000002?line=5'>6</a>\u001b[0m \u001b[39m# 입력받기\u001b[39;00m\n\u001b[0;32m----> <a href='vscode-notebook-cell:/Users/devkhk/Documents/python_algorithm/beakjoon/DFS%2CBFS%2CBacktracking/graph-2178.ipynb#ch0000002?line=6'>7</a>\u001b[0m N, M \u001b[39m=\u001b[39m \u001b[39mmap\u001b[39m(\u001b[39mint\u001b[39m, \u001b[39minput\u001b[39m()\u001b[39m.\u001b[39msplit())\n\u001b[1;32m      <a href='vscode-notebook-cell:/Users/devkhk/Documents/python_algorithm/beakjoon/DFS%2CBFS%2CBacktracking/graph-2178.ipynb#ch0000002?line=7'>8</a>\u001b[0m \u001b[39m# visited = [[False] * M for _ in range(N)]\u001b[39;00m\n\u001b[1;32m     <a href='vscode-notebook-cell:/Users/devkhk/Documents/python_algorithm/beakjoon/DFS%2CBFS%2CBacktracking/graph-2178.ipynb#ch0000002?line=9'>10</a>\u001b[0m dx \u001b[39m=\u001b[39m (\u001b[39m1\u001b[39m, \u001b[39m0\u001b[39m, \u001b[39m-\u001b[39m\u001b[39m1\u001b[39m, \u001b[39m0\u001b[39m)\n",
      "\u001b[0;31mValueError\u001b[0m: not enough values to unpack (expected 2, got 0)"
     ]
    }
   ],
   "source": [
    "# 시작점 (0, 0)\n",
    "# 목표지점 (N, M)\n",
    "## 수정하기 \n",
    "from collections import deque\n",
    "\n",
    "# 입력받기\n",
    "N, M = map(int, input().split())\n",
    "# visited = [[False] * M for _ in range(N)]\n",
    "\n",
    "dx = (1, 0, -1, 0)\n",
    "dy = (0, 1, 0, -1)\n",
    "\n",
    "# 미로\n",
    "maze = []\n",
    "for _ in range(N):\n",
    "    paths = input()\n",
    "    row = []\n",
    "    for i in range(M):\n",
    "        if paths[i] == \"1\":\n",
    "            row.append(True)\n",
    "        else:\n",
    "            row.append(False)\n",
    "    maze.append(row)\n",
    "\n",
    "def is_valid_coord(x, y):\n",
    "    return 0 <= x < N and 0 <= y < M\n",
    "\n",
    "# BFS 함수\n",
    "def bfs(start_x, start_y):\n",
    "    q = deque([(start_x, start_y)])\n",
    "    visit_count = 0\n",
    "    while q:\n",
    "        x, y = q.popleft()\n",
    "        maze[x][y] = False\n",
    "        visit_count += 1\n",
    "        if x == N-1 and y == M-1:\n",
    "            return print(visit_count)\n",
    "        for i in range(4):\n",
    "            nx = x + dx[i]\n",
    "            ny = y + dy[i]\n",
    "            if is_valid_coord(nx, ny) and maze[nx][ny]:\n",
    "                maze[nx][ny] = False\n",
    "                q.append((nx, ny))\n",
    "    return print(visit_count)\n",
    "\n",
    "# print(maze)\n",
    "# print(visited)\n",
    "# 길 찾기\n",
    "bfs(0, 0)\n",
    "\n",
    "\n"
   ]
  },
  {
   "cell_type": "code",
   "execution_count": null,
   "metadata": {},
   "outputs": [],
   "source": []
  }
 ],
 "metadata": {
  "kernelspec": {
   "display_name": "Python 3.8.8 ('base')",
   "language": "python",
   "name": "python3"
  },
  "language_info": {
   "codemirror_mode": {
    "name": "ipython",
    "version": 3
   },
   "file_extension": ".py",
   "mimetype": "text/x-python",
   "name": "python",
   "nbconvert_exporter": "python",
   "pygments_lexer": "ipython3",
   "version": "3.8.8"
  },
  "orig_nbformat": 4,
  "vscode": {
   "interpreter": {
    "hash": "be805ae34670cdb3c948a255e52b4c6cf927efb8c3bd1571b8421aaa53085dfe"
   }
  }
 },
 "nbformat": 4,
 "nbformat_minor": 2
}
