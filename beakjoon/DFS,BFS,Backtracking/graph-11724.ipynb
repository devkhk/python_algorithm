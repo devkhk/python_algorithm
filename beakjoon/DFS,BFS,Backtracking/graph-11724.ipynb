{
 "cells": [
  {
   "cell_type": "markdown",
   "metadata": {},
   "source": [
    "## 문제\n",
    "방향 없는 그래프가 주어졌을 때, 연결 요소 (Connected Component)의 개수를 구하는 프로그램을 작성하시오."
   ]
  },
  {
   "cell_type": "markdown",
   "metadata": {},
   "source": [
    "## 입력\n",
    "첫째 줄에 정점의 개수 N과 간선의 개수 M이 주어진다. (1 ≤ N ≤ 1,000, 0 ≤ M ≤ N×(N-1)/2) 둘째 줄부터 M개의 줄에 간선의 양 끝점 u와 v가 주어진다. (1 ≤ u, v ≤ N, u ≠ v) 같은 간선은 한 번만 주어진다.\n",
    "\n",
    "## 출력\n",
    "첫째 줄에 연결 요소의 개수를 출력한다."
   ]
  },
  {
   "cell_type": "markdown",
   "metadata": {},
   "source": [
    "### 예제 입력\n",
    "6 5   \n",
    "1 2   \n",
    "2 5   \n",
    "5 1   \n",
    "3 4   \n",
    "4 6   "
   ]
  },
  {
   "cell_type": "markdown",
   "metadata": {},
   "source": [
    "### 예제 출력\n",
    "2"
   ]
  },
  {
   "cell_type": "code",
   "execution_count": 33,
   "metadata": {},
   "outputs": [
    {
     "name": "stdout",
     "output_type": "stream",
     "text": [
      "2\n"
     ]
    }
   ],
   "source": [
    "# 입력 받기\n",
    "# from sys import stdin\n",
    "# input = stdin.readline\n",
    "import sys\n",
    "sys.setrecursionlimit(10 ** 6)\n",
    "\n",
    "N, M = map(int,input().split())\n",
    "adm = [[0] * N for _ in range(N)]\n",
    "checks = [False] * N \n",
    "\n",
    "for _ in range(M):\n",
    "    u, v = map(int, input().split())\n",
    "    adm[u-1][v-1] = adm[v-1][u-1] = 1\n",
    "\n",
    "def dfs(now):\n",
    "    for nxt in range(N):\n",
    "        if adm[now][nxt] and not checks[nxt]: # 방문 체크\n",
    "            checks[nxt] = True\n",
    "            dfs(nxt)\n",
    "result = 0\n",
    "for i in range(N):\n",
    "    if not checks[i]:\n",
    "        checks[i] = True\n",
    "        result += 1\n",
    "        dfs(i)\n",
    "print(result)\n"
   ]
  },
  {
   "cell_type": "code",
   "execution_count": 20,
   "metadata": {},
   "outputs": [
    {
     "data": {
      "text/plain": [
       "([[0, 0, 0, 0], [0, 0, 0, 0], [0, 0, 0, 0], [0, 0, 0, 0], [0, 0, 0, 0]],\n",
       " [False, False, False, False])"
      ]
     },
     "execution_count": 20,
     "metadata": {},
     "output_type": "execute_result"
    }
   ],
   "source": [
    "N, M = map(int,input().split())\n",
    "adm = [[0] * N+1 for _ in range(N+1)]\n",
    "checks = [False] * N \n",
    "adm, checks"
   ]
  },
  {
   "cell_type": "code",
   "execution_count": null,
   "metadata": {},
   "outputs": [],
   "source": []
  }
 ],
 "metadata": {
  "kernelspec": {
   "display_name": "Python 3.8.8 ('base')",
   "language": "python",
   "name": "python3"
  },
  "language_info": {
   "codemirror_mode": {
    "name": "ipython",
    "version": 3
   },
   "file_extension": ".py",
   "mimetype": "text/x-python",
   "name": "python",
   "nbconvert_exporter": "python",
   "pygments_lexer": "ipython3",
   "version": "3.8.8"
  },
  "orig_nbformat": 4,
  "vscode": {
   "interpreter": {
    "hash": "be805ae34670cdb3c948a255e52b4c6cf927efb8c3bd1571b8421aaa53085dfe"
   }
  }
 },
 "nbformat": 4,
 "nbformat_minor": 2
}
