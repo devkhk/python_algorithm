{
 "cells": [
  {
   "cell_type": "markdown",
   "metadata": {},
   "source": [
    "## 트리 Tree\n",
    "- 특정하지 않는 한 어떤 노드든지 루트(root)가 될 수 있다.\n",
    "- 가장 바깥쪽 노드는 리프 노드(leaf node)라고 한다.\n",
    "- node A 에서 node B로 가는 경로는 반드시 존재하며 유일하다.\n",
    "- 노드개수 = 간선개수 + 1 조건을 항상 만족한다.\n",
    "\n",
    "\n",
    "## 자료구조에서의 트리\n",
    "- 부모 -> 자식 관계가 있는 방향 그래프이다.\n",
    "- 루트(root)는 하나다."
   ]
  },
  {
   "cell_type": "markdown",
   "metadata": {},
   "source": [
    "## 인접행렬\n",
    "- 2차원 행렬\n",
    "- 무방향 인접행렬을 그래프로 표현 할 때는 대칭"
   ]
  },
  {
   "cell_type": "markdown",
   "metadata": {},
   "source": [
    "## 인접리스트\n",
    "- 연결리스트 형태\n",
    "- 간선이 있는 부분만 표현\n"
   ]
  },
  {
   "cell_type": "markdown",
   "metadata": {},
   "source": [
    "### 인접행렬 vs 인접 리스트\n",
    "- 시간 <=> 공간 : 공간을 많이 사용하면 시간이 적게 듬\n",
    "- 어떤걸 사용해서 풀이할지.. -> 비교\n",
    "- 인접 행렬은 노드가 N 개면 N^2개 공간을 만들어야 한다.\n",
    "- 인접리스트는 간선이 적어질수록 경우 메모리에 유리."
   ]
  },
  {
   "cell_type": "markdown",
   "metadata": {},
   "source": [
    "## DFS 깊이 우선 탐색\n",
    "- 스택이나 재귀를 사용해서 구현한다.\n",
    "- 보통 재귀를 사용해서 구현한다"
   ]
  },
  {
   "cell_type": "code",
   "execution_count": 3,
   "metadata": {},
   "outputs": [
    {
     "data": {
      "text/plain": [
       "[[0, 1, 0, 0, 0, 0, 0, 1, 0, 0, 0, 0, 0],\n",
       " [0, 0, 1, 0, 0, 1, 0, 0, 0, 0, 0, 0, 0],\n",
       " [0, 0, 0, 0, 0, 0, 0, 0, 0, 0, 0, 0, 0],\n",
       " [0, 0, 0, 0, 0, 0, 0, 0, 0, 0, 0, 0, 0],\n",
       " [0, 0, 0, 0, 0, 0, 0, 0, 0, 0, 0, 0, 0],\n",
       " [0, 0, 0, 0, 0, 0, 0, 0, 0, 0, 0, 0, 0],\n",
       " [0, 0, 0, 0, 0, 0, 0, 0, 0, 0, 0, 0, 0],\n",
       " [0, 0, 0, 0, 0, 0, 0, 0, 0, 0, 0, 0, 0],\n",
       " [0, 0, 0, 0, 0, 0, 0, 0, 0, 0, 0, 0, 0],\n",
       " [0, 0, 0, 0, 0, 0, 0, 0, 0, 0, 0, 0, 0],\n",
       " [0, 0, 0, 0, 0, 0, 0, 0, 0, 0, 0, 0, 0],\n",
       " [0, 0, 0, 0, 0, 0, 0, 0, 0, 0, 0, 0, 0],\n",
       " [0, 0, 0, 0, 0, 0, 0, 0, 0, 0, 0, 0, 0]]"
      ]
     },
     "execution_count": 3,
     "metadata": {},
     "output_type": "execute_result"
    }
   ],
   "source": [
    "adj = [[0] * 13 for _ in range(13)]\n",
    "adj[0][1] = adj[0][7] = 1\n",
    "adj[1][2] = adj[1][5] = 1\n",
    "adj[0][1] = adj[0][7] = 1\n",
    "adj\n"
   ]
  },
  {
   "cell_type": "code",
   "execution_count": 4,
   "metadata": {},
   "outputs": [],
   "source": [
    "# 재귀함수 구현\n",
    "# 현재 방문 노르를 인자로 받는다.\n",
    "def dfs(now):\n",
    "    for nxt in range(13):\n",
    "        if adj[now][nxt]: # 다음 간선이 존재하는 경우\n",
    "            dfs(nxt)\n",
    "\n",
    "dfs(0)\n"
   ]
  },
  {
   "cell_type": "markdown",
   "metadata": {},
   "source": [
    "## BFS 너비 우선 탐색\n",
    "- 큐를 사용해서 구현한다."
   ]
  },
  {
   "cell_type": "code",
   "execution_count": 5,
   "metadata": {},
   "outputs": [],
   "source": [
    "## bfs\n",
    "\n",
    "from collections import deque\n",
    "def bfs():\n",
    "    dq = deque()\n",
    "    dq.append(0) # 처음 탐색을 시작할 노드 초기화\n",
    "\n",
    "    while dq :\n",
    "        now = dq.popleft()\n",
    "        for nxt in range(13):\n",
    "            if adj[now][nxt]:\n",
    "                dq.append(nxt)\n",
    "\n",
    "bfs()"
   ]
  },
  {
   "cell_type": "markdown",
   "metadata": {},
   "source": [
    "## DFS & BFS\n",
    "- 최단거리 탐색에 DFS 보다 BFS를 사용한다.\n",
    "- 인접 행렬 VS 인접 리스트\n",
    "    - 인접행렬 : O(V^2) # 정점의 제곱\n",
    "    - 인접리스트 :O(V + E) = O(max(V, E)) # 정점 + 간선 ... -> 간선개수가 적을수록 인접리스트 그래프가 유리하다."
   ]
  },
  {
   "cell_type": "code",
   "execution_count": 7,
   "metadata": {},
   "outputs": [],
   "source": [
    "# 길찾기 보통 구현\n",
    "\n",
    "from collections import deque\n",
    "\n",
    "dy = (0, 1, 0, -1)\n",
    "dx = (1, 0, -1, 0)\n",
    "chk = [[False] * 100 for _ in range(100)]\n",
    "N = int(input())\n",
    "\n",
    "## 행렬 범위 초과 확인\n",
    "def is_valid_coord(y, x):\n",
    "    return 0 <= y < N and 0 <= x < N\n",
    "\n",
    "def bfs(start_y, start_x):\n",
    "    q = deque()\n",
    "    q.append((start_y, start_x))\n",
    "    while len(q) > 0:\n",
    "        y, x = q.pop()\n",
    "        chk[y][x] = True # 현위치 방문 저장\n",
    "        for k in range(4): # 4방향\n",
    "            ny = y + dy[k] # y + 방향\n",
    "            nx = x + dx[k] # x + 방향\n",
    "            if is_valid_coord(ny, nx) and not chk[ny][nx]: \n",
    "                chk[ny][nx] = True\n",
    "                q.append((ny, nx))\n"
   ]
  },
  {
   "cell_type": "markdown",
   "metadata": {},
   "source": [
    "## 백트래킹 Backtracking\n",
    "- 기본적으로 모든 경우를 탐색 DFS/BFS 방식과 유사\n",
    "- 가지치기를 통해 탐색 경우의 수를 줄인다는 차이가 있다.\n",
    "    - 최악의 경우 모든 경우를 다 살펴 보지만 가능한 덜 검색하는 전략"
   ]
  },
  {
   "cell_type": "markdown",
   "metadata": {},
   "source": []
  }
 ],
 "metadata": {
  "kernelspec": {
   "display_name": "Python 3.8.8 ('base')",
   "language": "python",
   "name": "python3"
  },
  "language_info": {
   "codemirror_mode": {
    "name": "ipython",
    "version": 3
   },
   "file_extension": ".py",
   "mimetype": "text/x-python",
   "name": "python",
   "nbconvert_exporter": "python",
   "pygments_lexer": "ipython3",
   "version": "3.8.8"
  },
  "orig_nbformat": 4,
  "vscode": {
   "interpreter": {
    "hash": "be805ae34670cdb3c948a255e52b4c6cf927efb8c3bd1571b8421aaa53085dfe"
   }
  }
 },
 "nbformat": 4,
 "nbformat_minor": 2
}
