{
 "cells": [
  {
   "cell_type": "markdown",
   "metadata": {},
   "source": [
    "괄호 문자열(Parenthesis String, PS)은 두 개의 괄호 기호인 ‘(’ 와 ‘)’ 만으로 구성되어 있는 문자열이다. \n",
    "\n",
    "그 중에서 괄호의 모양이 바르게 구성된 문자열을 올바른 괄호 문자열(Valid PS, VPS)이라고 부른다.\n",
    "\n",
    "한 쌍의 괄호 기호로 된 “( )” 문자열은 기본 VPS 이라고 부른다. 만일 x 가 VPS 라면 이것을 하나의 괄호에 넣은 새로운 문자열 “(x)”도 VPS 가 된다.\n",
    "\n",
    "그리고 두 VPS x 와 y를 접합(concatenation)시킨 새로운 문자열 xy도 VPS 가 된다. 예를 들어 “(())()”와 “((()))” 는 VPS 이지만 “(()(”, “(())()))” , 그리고 “(()” 는 모두 VPS 가 아닌 문자열이다. \n",
    "\n",
    "여러분은 입력으로 주어진 괄호 문자열이 VPS 인지 아닌지를 판단해서 그 결과를 YES 와 NO 로 나타내어야 한다."
   ]
  },
  {
   "cell_type": "markdown",
   "metadata": {},
   "source": [
    "## 입력\n",
    "입력 데이터는 표준 입력을 사용한다. 입력은 T개의 테스트 데이터로 주어진다.\n",
    "\n",
    "입력의 첫 번째 줄에는 입력 데이터의 수를 나타내는 정수 T가 주어진다. \n",
    "\n",
    "각 테스트 데이터의 첫째 줄에는 괄호 문자열이 한 줄에 주어진다.\n",
    "\n",
    "하나의 괄호 문자열의 길이는 2 이상 50 이하이다. "
   ]
  },
  {
   "cell_type": "markdown",
   "metadata": {},
   "source": [
    "## 출력\n",
    "출력은 표준 출력을 사용한다. 만일 입력 괄호 문자열이 올바른 괄호 문자열(VPS)이면 “YES”, 아니면 “NO”를 한 줄에 하나씩 차례대로 출력해야 한다. "
   ]
  },
  {
   "cell_type": "code",
   "execution_count": 1,
   "metadata": {},
   "outputs": [],
   "source": [
    "# 예제 입력\n",
    "# 6\n",
    "# (())())\n",
    "# (((()())()\n",
    "# (()())((()))\n",
    "# ((()()(()))(((())))()\n",
    "# ()()()()(()()())()\n",
    "# (()((())()("
   ]
  },
  {
   "cell_type": "code",
   "execution_count": 2,
   "metadata": {},
   "outputs": [
    {
     "ename": "ValueError",
     "evalue": "invalid literal for int() with base 10: ''",
     "output_type": "error",
     "traceback": [
      "\u001b[0;31m---------------------------------------------------------------------------\u001b[0m",
      "\u001b[0;31mValueError\u001b[0m                                Traceback (most recent call last)",
      "\u001b[1;32m/Users/devkhk/Documents/python_algorithm/beakjoon/data-structure-9012.ipynb Cell 5'\u001b[0m in \u001b[0;36m<cell line: 4>\u001b[0;34m()\u001b[0m\n\u001b[1;32m      <a href='vscode-notebook-cell:/Users/devkhk/Documents/python_algorithm/beakjoon/data-structure-9012.ipynb#ch0000009?line=0'>1</a>\u001b[0m \u001b[39mimport\u001b[39;00m \u001b[39msys\u001b[39;00m\n\u001b[1;32m      <a href='vscode-notebook-cell:/Users/devkhk/Documents/python_algorithm/beakjoon/data-structure-9012.ipynb#ch0000009?line=1'>2</a>\u001b[0m inn \u001b[39m=\u001b[39m sys\u001b[39m.\u001b[39mstdin\u001b[39m.\u001b[39mreadline\n\u001b[0;32m----> <a href='vscode-notebook-cell:/Users/devkhk/Documents/python_algorithm/beakjoon/data-structure-9012.ipynb#ch0000009?line=3'>4</a>\u001b[0m N \u001b[39m=\u001b[39m \u001b[39mint\u001b[39;49m(inn())\n\u001b[1;32m      <a href='vscode-notebook-cell:/Users/devkhk/Documents/python_algorithm/beakjoon/data-structure-9012.ipynb#ch0000009?line=5'>6</a>\u001b[0m \u001b[39mfor\u001b[39;00m _ \u001b[39min\u001b[39;00m \u001b[39mrange\u001b[39m(N):\n\u001b[1;32m      <a href='vscode-notebook-cell:/Users/devkhk/Documents/python_algorithm/beakjoon/data-structure-9012.ipynb#ch0000009?line=6'>7</a>\u001b[0m     ps \u001b[39m=\u001b[39m inn()\n",
      "\u001b[0;31mValueError\u001b[0m: invalid literal for int() with base 10: ''"
     ]
    }
   ],
   "source": [
    "import sys\n",
    "def vps_check(ps):\n",
    "    vps = []\n",
    "    for s in ps:\n",
    "        if s == \"(\": # 열림 s = \"(\"\n",
    "            vps.append(s)\n",
    "        else: # 닫힘 s = \")\"\n",
    "            if len(vps) == 0:\n",
    "                return \"NO\"\n",
    "            else:\n",
    "                vps.pop()\n",
    "    if vps:\n",
    "        return \"NO\"\n",
    "    else:\n",
    "        return \"YES\"\n",
    "\n",
    "inn = sys.stdin.readline\n",
    "N = int(inn())\n",
    "\n",
    "for _ in range(N):\n",
    "    ps = inn()\n",
    "    print(vps_check(ps))"
   ]
  },
  {
   "cell_type": "code",
   "execution_count": 21,
   "metadata": {},
   "outputs": [],
   "source": [
    "def vps_check(ps):\n",
    "    vps = []\n",
    "    for s in ps:\n",
    "        if s == \"(\": # 열림 s = \"(\"\n",
    "            vps.append(s)\n",
    "        else: # 닫힘 s = \")\"\n",
    "            if len(vps) == 0:\n",
    "                return \"NO\"\n",
    "            else:\n",
    "                vps.pop()\n",
    "    if vps:\n",
    "        return \"NO\"\n",
    "    else:\n",
    "        return \"YES\""
   ]
  },
  {
   "cell_type": "code",
   "execution_count": 22,
   "metadata": {},
   "outputs": [
    {
     "name": "stdout",
     "output_type": "stream",
     "text": [
      "YES\n",
      "NO\n",
      "NO\n"
     ]
    }
   ],
   "source": [
    "N = int(input())\n",
    "\n",
    "for _ in range(N):\n",
    "    ps = input()\n",
    "    print(vps_check(ps))"
   ]
  },
  {
   "cell_type": "code",
   "execution_count": 25,
   "metadata": {},
   "outputs": [
    {
     "name": "stdout",
     "output_type": "stream",
     "text": [
      "NO\n",
      "()(()(\n",
      "NO\n",
      "()((())))\n",
      "NO\n",
      "()((())))(()\n",
      "YES\n",
      "()()(())\n",
      "YES\n",
      "()()(())(()())\n",
      "NO\n",
      "()()(()())())))\n"
     ]
    }
   ],
   "source": [
    "for _ in range(int(input())):\n",
    "    ps = input()\n",
    "    vps = []\n",
    "    answer = \"YES\"\n",
    "    for s in ps:\n",
    "        if s == \"(\": # 열림 s = \"(\"\n",
    "            vps.append(s)\n",
    "        else: # 닫힘 s = \")\"\n",
    "            if len(vps) == 0:\n",
    "                answer = \"NO\"\n",
    "                break\n",
    "            else:\n",
    "                vps.pop()\n",
    "    if vps:\n",
    "        answer = \"NO\" \n",
    "    print(answer)"
   ]
  },
  {
   "cell_type": "code",
   "execution_count": null,
   "metadata": {},
   "outputs": [],
   "source": []
  }
 ],
 "metadata": {
  "interpreter": {
   "hash": "be805ae34670cdb3c948a255e52b4c6cf927efb8c3bd1571b8421aaa53085dfe"
  },
  "kernelspec": {
   "display_name": "Python 3.8.8 ('base')",
   "language": "python",
   "name": "python3"
  },
  "language_info": {
   "codemirror_mode": {
    "name": "ipython",
    "version": 3
   },
   "file_extension": ".py",
   "mimetype": "text/x-python",
   "name": "python",
   "nbconvert_exporter": "python",
   "pygments_lexer": "ipython3",
   "version": "3.8.8"
  },
  "orig_nbformat": 4
 },
 "nbformat": 4,
 "nbformat_minor": 2
}
