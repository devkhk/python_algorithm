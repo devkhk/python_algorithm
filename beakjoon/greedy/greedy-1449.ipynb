{
 "cells": [
  {
   "cell_type": "code",
   "execution_count": 66,
   "metadata": {},
   "outputs": [
    {
     "name": "stdout",
     "output_type": "stream",
     "text": [
      "4\n"
     ]
    }
   ],
   "source": [
    "N, L = map(int, input().split()) # 문제수, 테이프 길이\n",
    "problems = list(map(int, input().split()))\n",
    "problems.sort()\n",
    "\n",
    "start = problems[0]\n",
    "ans = 1\n",
    "\n",
    "for i in range(1, N):\n",
    "    if start + L <= problems[i]:\n",
    "        start = problems[i]\n",
    "        ans += 1\n",
    "print(ans)\n"
   ]
  },
  {
   "cell_type": "code",
   "execution_count": 9,
   "metadata": {},
   "outputs": [
    {
     "name": "stdout",
     "output_type": "stream",
     "text": [
      "4\n"
     ]
    }
   ],
   "source": [
    "N, L = map(int, input().split())\n",
    "problems = [False] * 1001\n",
    "for i in map(int, input().split()):\n",
    "    problems[i] = True\n",
    "l = 0\n",
    "ans = 0\n",
    "\n",
    "while l < 1001:\n",
    "    if problems[l]:\n",
    "        ans += 1\n",
    "        l += L\n",
    "    else:\n",
    "        l += 1\n",
    "print(ans)\n",
    "    "
   ]
  },
  {
   "cell_type": "code",
   "execution_count": null,
   "metadata": {},
   "outputs": [],
   "source": []
  }
 ],
 "metadata": {
  "kernelspec": {
   "display_name": "Python 3.8.8 ('base')",
   "language": "python",
   "name": "python3"
  },
  "language_info": {
   "codemirror_mode": {
    "name": "ipython",
    "version": 3
   },
   "file_extension": ".py",
   "mimetype": "text/x-python",
   "name": "python",
   "nbconvert_exporter": "python",
   "pygments_lexer": "ipython3",
   "version": "3.8.8"
  },
  "orig_nbformat": 4,
  "vscode": {
   "interpreter": {
    "hash": "be805ae34670cdb3c948a255e52b4c6cf927efb8c3bd1571b8421aaa53085dfe"
   }
  }
 },
 "nbformat": 4,
 "nbformat_minor": 2
}
