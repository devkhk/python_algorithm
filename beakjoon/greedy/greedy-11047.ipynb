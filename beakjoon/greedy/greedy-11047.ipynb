{
 "cells": [
  {
   "cell_type": "markdown",
   "metadata": {},
   "source": [
    "## 문제\n",
    "준규가 가지고 있는 동전은 총 N종류이고, 각각의 동전을 매우 많이 가지고 있다.\n",
    "\n",
    "동전을 적절히 사용해서 그 가치의 합을 K로 만들려고 한다. 이때 필요한 동전 개수의 최솟값을 구하는 프로그램을 작성하시오."
   ]
  },
  {
   "cell_type": "markdown",
   "metadata": {},
   "source": [
    "## 입력\n",
    "첫째 줄에 N과 K가 주어진다. (1 ≤ N ≤ 10, 1 ≤ K ≤ 100,000,000)\n",
    "\n",
    "둘째 줄부터 N개의 줄에 동전의 가치 Ai가 오름차순으로 주어진다. (1 ≤ Ai ≤ 1,000,000, A1 = 1, i ≥ 2인 경우에 Ai는 Ai-1의 배수)"
   ]
  },
  {
   "cell_type": "markdown",
   "metadata": {},
   "source": [
    "## 출력 \n",
    "첫째 줄에 K원을 만드는데 필요한 동전 개수의 최솟값을 출력한다."
   ]
  },
  {
   "cell_type": "code",
   "execution_count": 3,
   "metadata": {},
   "outputs": [],
   "source": [
    "### 예제입력\n",
    "# 10 4200\n",
    "# 1\n",
    "# 5\n",
    "# 10\n",
    "# 50\n",
    "# 100\n",
    "# 500\n",
    "# 1000\n",
    "# 5000\n",
    "# 10000\n",
    "# 50000\n",
    "\n",
    "## 출력 \n",
    "# 6"
   ]
  },
  {
   "cell_type": "code",
   "execution_count": 27,
   "metadata": {},
   "outputs": [
    {
     "name": "stdout",
     "output_type": "stream",
     "text": [
      "coin : 50000, K : 4200, ans: 0\n",
      "coin : 10000, K : 4200, ans: 0\n",
      "coin : 5000, K : 4200, ans: 0\n",
      "coin : 1000, K : 200, ans: 4\n",
      "coin : 500, K : 200, ans: 4\n",
      "coin : 100, K : 0, ans: 6\n",
      "coin : 50, K : 0, ans: 6\n",
      "coin : 10, K : 0, ans: 6\n",
      "coin : 5, K : 0, ans: 6\n",
      "coin : 1, K : 0, ans: 6\n",
      "6\n"
     ]
    }
   ],
   "source": [
    "# 입력\n",
    "N, K = map(int, input().split())\n",
    "coins = [int(input()) for _ in range(N)] # 1, 5, 10, 50 ...\n",
    "ans = 0\n",
    "for coin in coins[::-1]:\n",
    "    ans += K // coin # 4200 // 1000 => ans=4\n",
    "    K %= coin        # K = 4200 % 1000 = 200\n",
    "    print(f\"coin : {coin}, K : {K}, ans: {ans}\")\n",
    "print(ans)"
   ]
  },
  {
   "cell_type": "code",
   "execution_count": null,
   "metadata": {},
   "outputs": [],
   "source": []
  },
  {
   "cell_type": "code",
   "execution_count": null,
   "metadata": {},
   "outputs": [],
   "source": []
  }
 ],
 "metadata": {
  "interpreter": {
   "hash": "be805ae34670cdb3c948a255e52b4c6cf927efb8c3bd1571b8421aaa53085dfe"
  },
  "kernelspec": {
   "display_name": "Python 3.8.8 ('base')",
   "language": "python",
   "name": "python3"
  },
  "language_info": {
   "codemirror_mode": {
    "name": "ipython",
    "version": 3
   },
   "file_extension": ".py",
   "mimetype": "text/x-python",
   "name": "python",
   "nbconvert_exporter": "python",
   "pygments_lexer": "ipython3",
   "version": "3.8.8"
  },
  "orig_nbformat": 4
 },
 "nbformat": 4,
 "nbformat_minor": 2
}
