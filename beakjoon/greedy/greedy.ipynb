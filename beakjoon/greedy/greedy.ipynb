{
 "cells": [
  {
   "cell_type": "markdown",
   "metadata": {},
   "source": [
    "# greedy 그리디 탐욕법 알고리즘\n",
    "- 매 순간 최선의 경우만을 골라간다\n",
    "- 다른 경우는 고려하지 않는다. 나중은 생각하지 않음 <- 그리디의 반례가된다."
   ]
  },
  {
   "cell_type": "markdown",
   "metadata": {},
   "source": [
    "## 동전 거스름 돈 문제\n",
    "- 10, 50, 100, 500 동전들을 무한히 갖고 있다.\n",
    "- 손님에게 800원을 거슬러주려고 할 때 동전을 최소 개수를 주는 방법은?\n",
    "- 답 : 500 :3 100:1 \n",
    "- 총 개수 : 4\n",
    "\n",
    "풀이: 단위가 큰 동전부터 준다.\n",
    "\n",
    "## 동전 거스름돈 문제 2\n",
    "- 100, 400, 500 동전들을 무한히 ~\n",
    "- 손님에게 800원 거슬러주려고 할때 최소 개수 ~\n",
    "- 답 : 400 :2\n",
    "- => 그리디로 풀 수 없음\n",
    "\n",
    "\n",
    "### 두 문제간 차이점\n",
    "- 첫번쨰 문제는 동전 간의 관계가 배수 관계\n",
    "\n",
    "## ==> 그리디 문제의 어려운 부분\n",
    "이 문제가 그리디 인가? 반례가 있지 않을까? 판별하기 어렵다는 점\n"
   ]
  }
 ],
 "metadata": {
  "interpreter": {
   "hash": "be805ae34670cdb3c948a255e52b4c6cf927efb8c3bd1571b8421aaa53085dfe"
  },
  "kernelspec": {
   "display_name": "Python 3.8.8 ('base')",
   "language": "python",
   "name": "python3"
  },
  "language_info": {
   "name": "python",
   "version": "3.8.8"
  },
  "orig_nbformat": 4
 },
 "nbformat": 4,
 "nbformat_minor": 2
}
