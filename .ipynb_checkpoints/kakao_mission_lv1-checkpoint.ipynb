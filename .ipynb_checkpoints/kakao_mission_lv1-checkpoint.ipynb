{
 "cells": [
  {
   "cell_type": "code",
   "execution_count": 188,
   "id": "9ca9ae27",
   "metadata": {},
   "outputs": [],
   "source": [
    "def solution(id_list, report, k):\n",
    "    # id_list : 전체 유저 목록\n",
    "    # report : [\"frodo neo\", \"muzi con\"] : frodo->noe 신고, muzi->con 신고\n",
    "    # k : 정지 카운트\n",
    "    # answer : 정지 메일 확인        \n",
    "    \n",
    "    bad_count = defaultdict(lambda :0)\n",
    "    man_report = {}\n",
    "    mails = defaultdict(int)\n",
    "    users = defaultdict(list)\n",
    "\n",
    "    for r in report2:\n",
    "        m_b = r.split(\" \")\n",
    "        reporter = m_b[0] # 신고자\n",
    "        bad_man = m_b[1] # 신고당한사람\n",
    "\n",
    "        # 신고 리포트\n",
    "        if reporter not in man_report:\n",
    "            man_report[reporter] = [bad_man]\n",
    "            bad_count[bad_man] += 1\n",
    "\n",
    "        elif bad_man not in man_report[reporter]:\n",
    "            man_report[reporter] += [bad_man]\n",
    "            bad_count[bad_man] += 1\n",
    "\n",
    "    # 정지 유저\n",
    "    stop_user = set([m for m, c in bad_count.items() if c >= k])\n",
    "\n",
    "    # 정지 유저들을 신고한 유저에게 이메일 발송 카운트\n",
    "    # 두 셋 비교\n",
    "    for man, report in man_report.items():\n",
    "        # man 신고자\n",
    "        # report : List -> 신고 유저 리스트\n",
    "        count = len(set(report).intersection(stop_user))\n",
    "        mails[man] = count\n",
    "\n",
    "    # id_list에 대응하는 메일 발송 리스트\n",
    "    for user in id_list:\n",
    "        users[user] = mails[user]\n",
    "\n",
    "    answer = list(users.values())\n",
    "    return answer"
   ]
  },
  {
   "cell_type": "code",
   "execution_count": 192,
   "id": "cdbb0c8b",
   "metadata": {},
   "outputs": [],
   "source": [
    "id_list = [\"muzi\", \"frodo\", \"apeach\", \"neo\"]\n",
    "k = 2"
   ]
  },
  {
   "cell_type": "code",
   "execution_count": 206,
   "id": "800151c8",
   "metadata": {},
   "outputs": [],
   "source": [
    "report1 = [\"ryan con\", \"ryan con\", \"ryan con\", \"ryan con\"]\n",
    "report = [\"muzi frodo\", \"apeach frodo\", \"frodo neo\", \"muzi neo\", \"apeach muzi\" , \"frodo neo\"]"
   ]
  },
  {
   "cell_type": "code",
   "execution_count": 99,
   "id": "330f75a2",
   "metadata": {},
   "outputs": [],
   "source": [
    "from collections import defaultdict\n",
    "\n",
    "def solution(id_list, report, k):\n",
    "    \n",
    "    bad_count = defaultdict(lambda :0)\n",
    "    man_report = {}\n",
    "    mails = defaultdict(int)\n",
    "    users = defaultdict(list)\n",
    "\n",
    "    for r in report2:\n",
    "        m_b = r.split(\" \")\n",
    "        reporter = m_b[0] # 신고자\n",
    "        bad_man = m_b[1] # 신고당한사람\n",
    "\n",
    "        if reporter not in man_report:\n",
    "            man_report[reporter] = [bad_man]\n",
    "            bad_count[bad_man] += 1\n",
    "\n",
    "        elif bad_man not in man_report[reporter]:\n",
    "            man_report[reporter] += [bad_man]\n",
    "            bad_count[bad_man] += 1\n",
    "\n",
    "    stop_user = set([m for m, c in bad_count.items() if c >= k])\n",
    "\n",
    "    for man, report in man_report.items():\n",
    "        count = len(set(report).intersection(stop_user))\n",
    "        mails[man] = count\n",
    "\n",
    "    for user in id_list:\n",
    "        users[user] = mails[user]\n",
    "\n",
    "    answer = list(users.values())\n",
    "    return answer"
   ]
  },
  {
   "cell_type": "code",
   "execution_count": 189,
   "id": "c41c6ea1",
   "metadata": {},
   "outputs": [],
   "source": [
    "# 최고 수준 정답\n",
    "def solution(id_list, report, k):\n",
    "    answer = [0] * len(id_list)    \n",
    "    reports = {x : 0 for x in id_list}\n",
    "\n",
    "    for r in set(report):\n",
    "        reports[r.split()[1]] += 1\n",
    "\n",
    "    for r in set(report):\n",
    "        if reports[r.split()[1]] >= k:\n",
    "            answer[id_list.index(r.split()[0])] += 1\n",
    "\n",
    "    return answer"
   ]
  },
  {
   "cell_type": "code",
   "execution_count": 194,
   "id": "44e1b08c",
   "metadata": {},
   "outputs": [
    {
     "data": {
      "text/plain": [
       "[0, 0, 0, 0]"
      ]
     },
     "execution_count": 194,
     "metadata": {},
     "output_type": "execute_result"
    }
   ],
   "source": [
    "answer = [0]*len(id_list)\n",
    "answer"
   ]
  },
  {
   "cell_type": "code",
   "execution_count": 207,
   "id": "5b715e2b",
   "metadata": {},
   "outputs": [
    {
     "data": {
      "text/plain": [
       "{'muzi': 0, 'frodo': 0, 'apeach': 0, 'neo': 0}"
      ]
     },
     "execution_count": 207,
     "metadata": {},
     "output_type": "execute_result"
    }
   ],
   "source": [
    "reports = {x : 0 for x in id_list}\n",
    "reports"
   ]
  },
  {
   "cell_type": "code",
   "execution_count": 208,
   "id": "67fc29ee",
   "metadata": {},
   "outputs": [],
   "source": [
    "for r in set(report):\n",
    "    reports[r.split()[1]] += 1"
   ]
  },
  {
   "cell_type": "code",
   "execution_count": 209,
   "id": "5b6c95bb",
   "metadata": {},
   "outputs": [
    {
     "data": {
      "text/plain": [
       "{'apeach frodo', 'apeach muzi', 'frodo neo', 'muzi frodo', 'muzi neo'}"
      ]
     },
     "execution_count": 209,
     "metadata": {},
     "output_type": "execute_result"
    }
   ],
   "source": [
    "set(report)"
   ]
  },
  {
   "cell_type": "code",
   "execution_count": 210,
   "id": "8a45e14e",
   "metadata": {},
   "outputs": [
    {
     "data": {
      "text/plain": [
       "{'muzi': 1, 'frodo': 2, 'apeach': 0, 'neo': 2}"
      ]
     },
     "execution_count": 210,
     "metadata": {},
     "output_type": "execute_result"
    }
   ],
   "source": [
    "reports"
   ]
  },
  {
   "cell_type": "code",
   "execution_count": 211,
   "id": "c3ddae7d",
   "metadata": {},
   "outputs": [],
   "source": [
    "for r in set(report):\n",
    "    if reports[r.split()[1]] >= k:\n",
    "        answer[id_list.index(r.split()[0])] += 1"
   ]
  },
  {
   "cell_type": "code",
   "execution_count": 214,
   "id": "9c0dac55",
   "metadata": {},
   "outputs": [],
   "source": [
    "# 개선 및 생각해보기\n",
    "def solution(id_list, report, k):\n",
    "    answer = [0] * len(id_list) # 정답\n",
    "    reports = {user : 0 for user in id_list} # 신고 누적\n",
    "    rm_report = set(report)\n",
    "    \n",
    "    #reports = {user : 1 , user2 : 2, 'user': 0} # 신고 횟수\n",
    "    for re in rm_report:\n",
    "        reports[re.split()[1]] += 1\n",
    "    \n",
    "    #answer 카운트 증가\n",
    "    for re in rm_report:\n",
    "        if reports[re.split()[1]] >= k:\n",
    "            answer[id_list.index(re.split()[0])] += 1\n",
    "            \n",
    "    return answer"
   ]
  },
  {
   "cell_type": "code",
   "execution_count": null,
   "id": "3cd3db83",
   "metadata": {},
   "outputs": [],
   "source": [
    "solution()"
   ]
  }
 ],
 "metadata": {
  "kernelspec": {
   "display_name": "Python 3 (ipykernel)",
   "language": "python",
   "name": "python3"
  },
  "language_info": {
   "codemirror_mode": {
    "name": "ipython",
    "version": 3
   },
   "file_extension": ".py",
   "mimetype": "text/x-python",
   "name": "python",
   "nbconvert_exporter": "python",
   "pygments_lexer": "ipython3",
   "version": "3.9.7"
  }
 },
 "nbformat": 4,
 "nbformat_minor": 5
}
