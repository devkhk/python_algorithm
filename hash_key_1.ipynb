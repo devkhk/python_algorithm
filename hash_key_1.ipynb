{
 "cells": [
  {
   "cell_type": "markdown",
   "metadata": {},
   "source": [
    "### 완주하지 못한 선수\n",
    "#### 문제 설명\n",
    "수많은 마라톤 선수들이 마라톤에 참여하였습니다. 단 한 명의 선수를 제외하고는 모든 선수가 마라톤을 완주하였습니다.\n",
    "\n",
    "마라톤에 참여한 선수들의 이름이 담긴 배열 participant와 완주한 선수들의 이름이 담긴 배열 completion이 주어질 때, 완주하지 못한 선수의 이름을 return 하도록 solution 함수를 작성해주세요.\n",
    "\n",
    "#### 제한사항\n",
    "- 마라톤 경기에 참여한 선수의 수는 1명 이상 100,000명 이하입니다.\n",
    "- completion의 길이는 participant의 길이보다 1 작습니다.\n",
    "- 참가자의 이름은 1개 이상 20개 이하의 알파벳 소문자로 이루어져 있습니다.\n",
    "- 참가자 중에는 동명이인이 있을 수 있습니다.\n",
    "\n",
    "#### 입출력 예\n",
    "\t\t\n",
    "|participant|completion|return|\n",
    "|---|---|---|\n",
    "|[\"leo\", \"kiki\", \"eden\"]|[\"eden\", \"kiki\"]|\"leo\"|\n",
    "|[\"marina\", \"josipa\", \"nikola\", \"vinko\", \"filipa\"]|[\"josipa\", \"filipa\", \"marina\", \"nikola\"]|\"vinko\"|\n",
    "|[\"mislav\", \"stanko\", \"mislav\", \"ana\"]|[\"stanko\", \"ana\", \"mislav\"]|\"mislav\"|\n",
    "\n",
    "#### 입출력 예 설명\n",
    "- 예제 #1\n",
    "\"leo\"는 참여자 명단에는 있지만, 완주자 명단에는 없기 때문에 완주하지 못했습니다.\n",
    "\n",
    "- 예제 #2\n",
    "\"vinko\"는 참여자 명단에는 있지만, 완주자 명단에는 없기 때문에 완주하지 못했습니다.\n",
    "\n",
    "- 예제 #3\n",
    "\"mislav\"는 참여자 명단에는 두 명이 있지만, 완주자 명단에는 한 명밖에 없기 때문에 한명은 완주하지 못했습니다."
   ]
  },
  {
   "cell_type": "code",
   "execution_count": 5,
   "metadata": {},
   "outputs": [],
   "source": [
    "# 나의 첫번째 문제 풀이\n",
    "\n",
    "def solution1(participant, completion) :\n",
    "    # participant 는 completion보다( 1명 더 많다.\n",
    "    # 빠른 시간안에 비교 검색 목표\n",
    "    # 완주 리스트에 없는 participant 를 찾아내야 한다.\n",
    "\n",
    "    part_dict = {}\n",
    "    com_dict = {}\n",
    "\n",
    "    for name in participant :\n",
    "        if part_dict.get(name) :\n",
    "            part_dict[name] += 1\n",
    "        else :\n",
    "            part_dict[name] = 1\n",
    "\n",
    "    for name in completion :\n",
    "        if com_dict.get(name) :\n",
    "            com_dict[name] += 1\n",
    "        else :\n",
    "            com_dict[name] = 1\n",
    "\n",
    "    for pk, pv in part_dict.items() :\n",
    "        for ck, cv in com_dict.items():\n",
    "            if pk == ck :\n",
    "                if pv != cv :\n",
    "                    return pk"
   ]
  },
  {
   "cell_type": "code",
   "execution_count": 42,
   "metadata": {},
   "outputs": [
    {
     "data": {
      "text/plain": [
       "'mislav'"
      ]
     },
     "execution_count": 42,
     "metadata": {},
     "output_type": "execute_result"
    }
   ],
   "source": [
    "solution1([\"mislav\", \"stanko\", \"mislav\", \"ana\"], [\"stanko\", \"ana\", \"mislav\"])"
   ]
  },
  {
   "cell_type": "code",
   "execution_count": 43,
   "metadata": {},
   "outputs": [
    {
     "data": {
      "text/plain": [
       "'park'"
      ]
     },
     "execution_count": 43,
     "metadata": {},
     "output_type": "execute_result"
    }
   ],
   "source": [
    "solution1([\"lee\", \"kwang\", \"park\", \"kim\", \"choi\", \"park\", \"choi\"], [\"park\", \"choi\", \"kim\", \"kwang\", \"lee\", \"choi\"])"
   ]
  },
  {
   "cell_type": "code",
   "execution_count": 2,
   "metadata": {},
   "outputs": [],
   "source": [
    "import random\n",
    "\n",
    "ls = [\"lee\", \"kwang\", \"park\", \"kim\", \"choi\",\"mislav\", \"stanko\", \"tomas\", \"ana\", ]\n",
    "\n",
    "# 랜덤 인덱스 넘버를 입력 값 만큼 반복\n",
    "def get_runner(name_list, count) :\n",
    "    result = []\n",
    "    for n in range(count) :\n",
    "        r = random.randint(0, len(ls)-1)\n",
    "        result.append(name_list[r])\n",
    "        if n < 100 :\n",
    "            continue\n",
    "    return result\n"
   ]
  },
  {
   "cell_type": "code",
   "execution_count": 3,
   "metadata": {},
   "outputs": [
    {
     "name": "stdout",
     "output_type": "stream",
     "text": [
      "20000000 19999999\n"
     ]
    }
   ],
   "source": [
    "runner_list = get_runner(ls, 20000000)\n",
    "completion_list = runner_list.copy()\n",
    "\n",
    "completion_list.pop()\n",
    "\n",
    "print(len(runner_list), len(completion_list))"
   ]
  },
  {
   "cell_type": "code",
   "execution_count": 6,
   "metadata": {},
   "outputs": [
    {
     "data": {
      "text/plain": [
       "'mislav'"
      ]
     },
     "execution_count": 6,
     "metadata": {},
     "output_type": "execute_result"
    }
   ],
   "source": [
    "solution1(runner_list, completion_list)"
   ]
  },
  {
   "cell_type": "code",
   "execution_count": 8,
   "metadata": {},
   "outputs": [],
   "source": [
    "# 문제풀이 리팩토링2\n",
    "def solution2(participant, completion) :\n",
    "    # participant 는 completion보다 1명 더 많다.\n",
    "    # 빠른 시간안에 비교 검색 목표\n",
    "    # 완주 리스트에 없는 participant 를 찾아내야 한다.\n",
    "\n",
    "    ## 코드 리팩토링 해보기\n",
    "    part_dict = {}\n",
    "    com_dict = {}\n",
    "\n",
    "    for name in participant :\n",
    "        if part_dict.get(name) :\n",
    "            part_dict[name] += 1\n",
    "        else :\n",
    "            part_dict[name] = 1\n",
    "\n",
    "    for name in completion :\n",
    "        if com_dict.get(name) :\n",
    "            com_dict[name] += 1\n",
    "        else :\n",
    "            com_dict[name] = 1\n",
    "\n",
    "    for pk, pv in part_dict.items() :\n",
    "        if pv != com_dict[pk]:\n",
    "            return pk"
   ]
  },
  {
   "cell_type": "code",
   "execution_count": 9,
   "metadata": {},
   "outputs": [
    {
     "data": {
      "text/plain": [
       "'mislav'"
      ]
     },
     "execution_count": 9,
     "metadata": {},
     "output_type": "execute_result"
    }
   ],
   "source": [
    "solution2(runner_list, completion_list)"
   ]
  },
  {
   "cell_type": "code",
   "execution_count": 10,
   "metadata": {},
   "outputs": [],
   "source": [
    "# 문제풀이 리팩토링3\n",
    "def solution3(participant, completion) :\n",
    "    # participant 는 completion보다 1명 더 많다.\n",
    "    # 빠른 시간안에 비교 검색 목표\n",
    "    # 완주 리스트에 없는 participant 를 찾아내야 한다.\n",
    "\n",
    "    ## 코드 리팩토링 해보기\n",
    "    part_dict = {}\n",
    "\n",
    "    for name in participant :\n",
    "        if part_dict.get(name) :\n",
    "            part_dict[name] += 1\n",
    "        else :\n",
    "            part_dict[name] = 1\n",
    "\n",
    "    for name in completion :\n",
    "        if part_dict.get(name) :\n",
    "            part_dict[name] -= 1\n",
    "    \n",
    "    for k, v in part_dict.items() :\n",
    "        if v > 0 :\n",
    "            return k"
   ]
  },
  {
   "cell_type": "code",
   "execution_count": 24,
   "metadata": {},
   "outputs": [
    {
     "data": {
      "text/plain": [
       "'mislav'"
      ]
     },
     "execution_count": 24,
     "metadata": {},
     "output_type": "execute_result"
    }
   ],
   "source": [
    "solution3(runner_list, completion_list)"
   ]
  },
  {
   "cell_type": "code",
   "execution_count": 12,
   "metadata": {},
   "outputs": [],
   "source": [
    "# 다른 유저의 풀이 counter\n",
    "# 내가 생각한 방식도 카운트를 세는 방식이다.\n",
    "# 파이썬 내장 모듈 collection에 있는 Counter를 사용한다 \n",
    "\n",
    "from collections import Counter\n",
    "\n",
    "def solution_users(participant, completion):\n",
    "    answer = Counter(participant) - Counter(completion)\n",
    "    # return list(answer.keys())[0]\n",
    "    return list(answer)[0]\n"
   ]
  },
  {
   "cell_type": "code",
   "execution_count": 13,
   "metadata": {},
   "outputs": [
    {
     "data": {
      "text/plain": [
       "'mislav'"
      ]
     },
     "execution_count": 13,
     "metadata": {},
     "output_type": "execute_result"
    }
   ],
   "source": [
    "solution_users(runner_list, completion_list)"
   ]
  },
  {
   "cell_type": "code",
   "execution_count": 22,
   "metadata": {},
   "outputs": [],
   "source": [
    "## 다른 사람의 풀이 2\n",
    "## 기존 내 아이디어와 같지만 해시함수를 사용하면서 해시키를 정확히 이용할 수 있는게 차이점인것 같다.\n",
    "## O(n) 은 기존 내 아이디어와 같을 것으로 예상.\n",
    "\n",
    "def solution_users2(participant, completion):\n",
    "    answer = ''\n",
    "    temp = 0\n",
    "    dic = {}\n",
    "\n",
    "    for part in participant:\n",
    "        dic[hash(part)] = part\n",
    "        temp += hash(part)\n",
    "        \n",
    "    for com in completion:\n",
    "        temp -= hash(com)\n",
    "        \n",
    "    answer = dic[temp]\n",
    "\n",
    "    return answer"
   ]
  },
  {
   "cell_type": "code",
   "execution_count": 23,
   "metadata": {},
   "outputs": [
    {
     "data": {
      "text/plain": [
       "'mislav'"
      ]
     },
     "execution_count": 23,
     "metadata": {},
     "output_type": "execute_result"
    }
   ],
   "source": [
    "solution_users2(runner_list, completion_list)"
   ]
  },
  {
   "cell_type": "markdown",
   "metadata": {},
   "source": [
    "---- \n",
    "#### ..\n",
    "알고리즘을 푸는 아이디어를 제한 하지 않는게 중요한것 같고\n",
    "\n",
    "파이썬은 정말 수많은 라이브러리가 있고 데이터 다루는 언어로 특화된것 같다.\n",
    "\n",
    "무언가 어떤 함수를 작성하기전에 관련된 모듈이 있는지 찾아보는게 우선이라는 말이 정말 와닿았다.\n"
   ]
  },
  {
   "cell_type": "markdown",
   "metadata": {},
   "source": []
  }
 ],
 "metadata": {
  "interpreter": {
   "hash": "2be5faf79681da6f2a61fdfdd5405d65d042280f7fba6178067603e3a2925119"
  },
  "kernelspec": {
   "display_name": "Python 3.10.0 64-bit",
   "language": "python",
   "name": "python3"
  },
  "language_info": {
   "codemirror_mode": {
    "name": "ipython",
    "version": 3
   },
   "file_extension": ".py",
   "mimetype": "text/x-python",
   "name": "python",
   "nbconvert_exporter": "python",
   "pygments_lexer": "ipython3",
   "version": "3.10.0"
  },
  "orig_nbformat": 4
 },
 "nbformat": 4,
 "nbformat_minor": 2
}
