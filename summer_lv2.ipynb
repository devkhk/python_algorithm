{
 "cells": [
  {
   "cell_type": "markdown",
   "metadata": {},
   "source": [
    "## 멀쩡한 사각형 구하기\n",
    "가로 길이가 Wcm, 세로 길이가 Hcm인 직사각형 종이가 있습니다. 종이에는 가로, 세로 방향과 평행하게 격자 형태로 선이 그어져 있으며, 모든 격자칸은 1cm x 1cm 크기입니다.   \n",
    "이 종이를 격자 선을 따라 1cm × 1cm의 정사각형으로 잘라 사용할 예정이었는데, 누군가가 이 종이를 대각선 꼭지점 2개를 잇는 방향으로 잘라 놓았습니다.   \n",
    "그러므로 현재 직사각형 종이는 크기가 같은 직각삼각형 2개로 나누어진 상태입니다.   \n",
    "새로운 종이를 구할 수 없는 상태이기 때문에, 이 종이에서 원래 종이의 가로, 세로 방향과 평행하게 1cm × 1cm로 잘라 사용할 수 있는 만큼만 사용하기로 하였습니다.   \n",
    "가로의 길이 W와 세로의 길이 H가 주어질 때, 사용할 수 있는 정사각형의 개수를 구하는 solution 함수를 완성해 주세요.\n",
    "\n",
    "### 제한사항\n",
    "- W, H : 1억 이하의 자연수"
   ]
  },
  {
   "cell_type": "code",
   "execution_count": 47,
   "metadata": {},
   "outputs": [],
   "source": [
    "import math\n",
    "import random"
   ]
  },
  {
   "cell_type": "code",
   "execution_count": 90,
   "metadata": {},
   "outputs": [
    {
     "data": {
      "text/plain": [
       "(38530326, 29634094)"
      ]
     },
     "execution_count": 90,
     "metadata": {},
     "output_type": "execute_result"
    }
   ],
   "source": [
    "w = random.randint(1, 100000000)\n",
    "h = random.randint(1, 100000000)\n",
    "w, h"
   ]
  },
  {
   "cell_type": "code",
   "execution_count": 91,
   "metadata": {},
   "outputs": [
    {
     "data": {
      "text/plain": [
       "2"
      ]
     },
     "execution_count": 91,
     "metadata": {},
     "output_type": "execute_result"
    }
   ],
   "source": [
    "_gcd = math.gcd(w, h)\n",
    "_gcd"
   ]
  },
  {
   "cell_type": "code",
   "execution_count": 92,
   "metadata": {},
   "outputs": [
    {
     "data": {
      "text/plain": [
       "(19265163, 14817047)"
      ]
     },
     "execution_count": 92,
     "metadata": {},
     "output_type": "execute_result"
    }
   ],
   "source": [
    "r = int(w / _gcd)\n",
    "c = int(h / _gcd)\n",
    "r, c"
   ]
  },
  {
   "cell_type": "code",
   "execution_count": 83,
   "metadata": {},
   "outputs": [
    {
     "data": {
      "text/plain": [
       "(647393, 188556)"
      ]
     },
     "execution_count": 83,
     "metadata": {},
     "output_type": "execute_result"
    }
   ],
   "source": [
    "l = max([r, c])\n",
    "s = min([r, c])\n",
    "l, s"
   ]
  },
  {
   "cell_type": "code",
   "execution_count": null,
   "metadata": {},
   "outputs": [],
   "source": []
  },
  {
   "cell_type": "code",
   "execution_count": null,
   "metadata": {},
   "outputs": [],
   "source": []
  },
  {
   "cell_type": "code",
   "execution_count": 105,
   "metadata": {},
   "outputs": [],
   "source": [
    "def solution(w, h):\n",
    "    # 전체 넓이\n",
    "    area = w * h\n",
    "    \n",
    "    # 최대 공약수\n",
    "    _gcd = math.gcd(w, h)\n",
    "    \n",
    "    # w, h 최소 공약수로 약분\n",
    "    r = w // _gcd\n",
    "    c = h // _gcd\n",
    "    \n",
    "    # (r, c) 둘 중 긴 쪽 확인\n",
    "    l = max([r, c])\n",
    "    s = min([r, c])\n",
    "    \n",
    "    # 정사각형\n",
    "    if w == h :\n",
    "        result = area - w \n",
    "        return result\n",
    "    else:\n",
    "        if l == 2:\n",
    "            # (2, 1), (2, 2):X (2, 0):X \n",
    "            result = 2 * _gcd\n",
    "            return area - result\n",
    "        else:\n",
    "            # (3, 1), (4, 3), (11, 3), (12, 7) ...\n",
    "            if s == 1:\n",
    "                # (1, 1): X , (1, ~) .. \n",
    "                result = l * _gcd\n",
    "                return area - result\n",
    "            else:\n",
    "                if l-2 != 1 and (l-2) % 2 == 1:\n",
    "                    mid = l - 2\n",
    "                    mid = (mid * 2) - 1 \n",
    "                    result = mid + 2\n",
    "                    result = result * _gcd\n",
    "                    return area - result\n",
    "                mid = l - 2\n",
    "                mid = mid * 2\n",
    "                result = mid + 2\n",
    "                result = result * _gcd\n",
    "                return area - result\n",
    "            \n"
   ]
  },
  {
   "cell_type": "code",
   "execution_count": 12,
   "metadata": {},
   "outputs": [],
   "source": [
    "a = math.gcd(4, 5)"
   ]
  },
  {
   "cell_type": "code",
   "execution_count": 104,
   "metadata": {},
   "outputs": [
    {
     "data": {
      "text/plain": [
       "84"
      ]
     },
     "execution_count": 104,
     "metadata": {},
     "output_type": "execute_result"
    }
   ],
   "source": [
    "solution(8, 12)"
   ]
  },
  {
   "cell_type": "code",
   "execution_count": 106,
   "metadata": {},
   "outputs": [],
   "source": [
    "from math import gcd\n",
    "def solution(w, h):\n",
    "    _gcd = gcd(w, h)\n",
    "    return w * h - (w + h - _gcd)"
   ]
  },
  {
   "cell_type": "code",
   "execution_count": null,
   "metadata": {},
   "outputs": [],
   "source": []
  }
 ],
 "metadata": {
  "interpreter": {
   "hash": "be805ae34670cdb3c948a255e52b4c6cf927efb8c3bd1571b8421aaa53085dfe"
  },
  "kernelspec": {
   "display_name": "Python 3.9.7 ('base')",
   "language": "python",
   "name": "python3"
  },
  "language_info": {
   "codemirror_mode": {
    "name": "ipython",
    "version": 3
   },
   "file_extension": ".py",
   "mimetype": "text/x-python",
   "name": "python",
   "nbconvert_exporter": "python",
   "pygments_lexer": "ipython3",
   "version": "3.9.7"
  },
  "orig_nbformat": 4
 },
 "nbformat": 4,
 "nbformat_minor": 2
}
