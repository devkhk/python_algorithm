{
 "cells": [
  {
   "cell_type": "markdown",
   "metadata": {},
   "source": [
    "### 문제 설명\n",
    "n개의 노드가 있는 그래프가 있습니다. 각 노드는 1부터 n까지 번호가 적혀있습니다. 1번 노드에서 가장 멀리 떨어진 노드의 갯수를 구하려고 합니다. 가장 멀리 떨어진 노드란 최단경로로 이동했을 때 간선의 개수가 가장 많은 노드들을 의미합니다.\n",
    "\n",
    "노드의 개수 n, 간선에 대한 정보가 담긴 2차원 배열 vertex가 매개변수로 주어질 때, 1번 노드로부터 가장 멀리 떨어진 노드가 몇 개인지를 return 하도록 solution 함수를 작성해주세요.\n",
    "\n",
    "### 입출력 예\n",
    "\n",
    "|n|vertex|return|\n",
    "|---|---|---|\n",
    "|6|[[3, 6], [4, 3], [3, 2], [1, 3], [1, 2], [2, 4], [5, 2]]|3"
   ]
  },
  {
   "cell_type": "code",
   "execution_count": 7,
   "metadata": {},
   "outputs": [],
   "source": [
    "n = 6\n",
    "edge = [[3, 6], [4, 3], [3, 2], [1, 3], [1, 2], [2, 4], [5, 2]]"
   ]
  },
  {
   "cell_type": "code",
   "execution_count": 34,
   "metadata": {},
   "outputs": [],
   "source": [
    "from collections import defaultdict\n",
    "import heapq\n",
    "def solution(n, edge):\n",
    "    answer = 0\n",
    "    distance = [float('inf')] * (n+1)\n",
    "    queue = []\n",
    "    heapq.heappush(queue, [])\n",
    "\n",
    "    graph = defaultdict(list)\n",
    "    \n",
    "    # 인접 리스트\n",
    "    for e in edge:\n",
    "        close_dict[e[0]] += [e[1]] \n",
    "        close_dict[e[1]] += [e[0]]\n",
    "\n",
    "    # 리스트 정렬\n",
    "    close_dict = {k:sorted(ls) for k, ls in close_dict.items()}\n",
    "    print(close_dict)\n",
    "\n",
    "    start_list = close_dict[1]\n",
    "    \n",
    "\n",
    "\n",
    "    return distance"
   ]
  },
  {
   "cell_type": "code",
   "execution_count": 33,
   "metadata": {},
   "outputs": [
    {
     "name": "stdout",
     "output_type": "stream",
     "text": [
      "{3: [1, 2, 4, 6], 6: [3], 4: [2, 3], 2: [1, 3, 4, 5], 1: [2, 3], 5: [2]}\n"
     ]
    },
    {
     "data": {
      "text/plain": [
       "[inf, inf, 1, 1, inf, inf, inf]"
      ]
     },
     "execution_count": 33,
     "metadata": {},
     "output_type": "execute_result"
    }
   ],
   "source": [
    "solution(n, edge)"
   ]
  },
  {
   "cell_type": "code",
   "execution_count": 2,
   "metadata": {},
   "outputs": [],
   "source": [
    "graph = {\n",
    "    'A': {'B': 8, 'C': 1, 'D': 2},\n",
    "    'B': {},\n",
    "    'C': {'B': 5, 'D': 2},\n",
    "    'D': {'E': 3, 'F': 5},\n",
    "    'E': {'F': 1},\n",
    "    'F': {'A': 5}\n",
    "}"
   ]
  },
  {
   "cell_type": "code",
   "execution_count": 8,
   "metadata": {},
   "outputs": [],
   "source": [
    "import heapq\n",
    "def dijkstra(graph, start):\n",
    "    distances = {node: float('inf') for node in graph}  # start로 부터의 거리 값을 저장하기 위함\n",
    "    distances[start] = 0  # 시작 값은 0이어야 함\n",
    "    queue = []\n",
    "    heapq.heappush(queue, [distances[start], start])  # 시작 노드부터 탐색 시작 하기 위함.\n",
    "\n",
    "    # print(\"distance : \",distances)\n",
    "\n",
    "    while queue:\n",
    "        current_distance, current_destination = heapq.heappop(queue) # 탐색 할 노드, 거리를 가져옴.\n",
    "        \n",
    "        if distances[current_destination] < current_distance:        # 기존에 있는 거리보다 길다면, 아래 코드 진행 의미 X\n",
    "            continue\n",
    "        \n",
    "        for new_destination, new_distance in graph[current_destination].items():\n",
    "            # B, 8\n",
    "            distance = current_distance + new_distance\n",
    "            if distance < distances[new_destination]:\n",
    "                distances[new_destination] = distance\n",
    "                # print(\"distance : \",distances)\n",
    "                heapq.heappush(queue ,[distance, new_destination]) # 다음 인접 거리를 계산 하기 위해 큐에 삽입\n",
    "                \n",
    "    return distances\n"
   ]
  },
  {
   "cell_type": "code",
   "execution_count": 9,
   "metadata": {},
   "outputs": [
    {
     "data": {
      "text/plain": [
       "{'A': 0, 'B': 6, 'C': 1, 'D': 2, 'E': 5, 'F': 6}"
      ]
     },
     "execution_count": 9,
     "metadata": {},
     "output_type": "execute_result"
    }
   ],
   "source": [
    "dijkstra(graph, 'A')"
   ]
  },
  {
   "cell_type": "code",
   "execution_count": 56,
   "metadata": {},
   "outputs": [
    {
     "name": "stdout",
     "output_type": "stream",
     "text": [
      "[1, 3, 6, 10, 9, 8]\n",
      "1\n",
      "3\n",
      "6\n",
      "8\n",
      "9\n",
      "10\n"
     ]
    }
   ],
   "source": [
    "# heapq 는 보통 최소 힙으로 이용\n",
    "h = []\n",
    "heapq.heappush(h, 3)\n",
    "heapq.heappush(h, 1)\n",
    "heapq.heappush(h, 8)\n",
    "heapq.heappush(h, 10)\n",
    "heapq.heappush(h, 9)\n",
    "heapq.heappush(h, 6)\n",
    "\n",
    "print(h)\n",
    "for _ in range(6):\n",
    "    print(heapq.heappop(h))"
   ]
  },
  {
   "cell_type": "code",
   "execution_count": 57,
   "metadata": {},
   "outputs": [
    {
     "name": "stdout",
     "output_type": "stream",
     "text": [
      "9\n",
      "8\n",
      "7\n",
      "5\n",
      "3\n",
      "1\n"
     ]
    }
   ],
   "source": [
    "# heapq 최대 힙 => 데이터에 마이너스 처리를 해야함\n",
    "h = []\n",
    "heapq.heappush(h, -3)\t\n",
    "heapq.heappush(h, -9)\t\n",
    "heapq.heappush(h, -7)\t# 원래 넣으려는 값에 -를 붙여준다.\n",
    "heapq.heappush(h, -8)\t\n",
    "heapq.heappush(h, -5)\n",
    "heapq.heappush(h, -1)\n",
    "\n",
    "for _ in range(6):\n",
    "    print(-heapq.heappop(h)) # 출력시에도 -을 붙여준다."
   ]
  },
  {
   "cell_type": "code",
   "execution_count": 83,
   "metadata": {},
   "outputs": [
    {
     "name": "stdout",
     "output_type": "stream",
     "text": [
      "['a', 3]\n",
      "['c', 1]\n",
      "['z', 2]\n",
      "- - - - - - - - - - - - - - - - - - - - \n",
      "[1, 'c']\n",
      "[2, 'z']\n",
      "[3, 'a']\n"
     ]
    }
   ],
   "source": [
    "h = [3, 9, 1, 4, 2]\n",
    "h = [\n",
    "    ['c', 1],\n",
    "    ['a', 3],\n",
    "    ['z',2]\n",
    "]\n",
    "t = [\n",
    "    [1, 'c'],\n",
    "    [3, 'a'],\n",
    "    [2,'z']    \n",
    "]\n",
    "heapq.heapify(h)\t# 파라미터로 list 객체를 받는다.\n",
    "heapq.heapify(t)\n",
    "\n",
    "for _ in range(3):\n",
    "    print(heapq.heappop(h))\t# 작은 값부터 출력된다.\n",
    "print(\"- \"*20)\n",
    "for _ in range(3):\n",
    "    print(heapq.heappop(t))\t# 작은 값부터 출력된다."
   ]
  },
  {
   "cell_type": "code",
   "execution_count": 98,
   "metadata": {},
   "outputs": [],
   "source": [
    "from collections import deque\n",
    "a = [1, 2, 3]\n",
    "\n",
    "ab = deque(a)\n",
    "ab.append(5)\n",
    "ab.appendleft(0)\n",
    "ab.rotate()"
   ]
  },
  {
   "cell_type": "code",
   "execution_count": 100,
   "metadata": {},
   "outputs": [
    {
     "data": {
      "text/plain": [
       "deque([3, 5, 0, 1, 2])"
      ]
     },
     "execution_count": 100,
     "metadata": {},
     "output_type": "execute_result"
    }
   ],
   "source": [
    "ab.rotate()\n",
    "ab"
   ]
  },
  {
   "cell_type": "code",
   "execution_count": 20,
   "metadata": {},
   "outputs": [
    {
     "name": "stdout",
     "output_type": "stream",
     "text": [
      "[[1, 'c'], [3, 'z'], [3, 'a']]\n",
      "3\n",
      "[1, 'c']\n",
      "[3, 'a']\n",
      "[3, 'z']\n"
     ]
    }
   ],
   "source": [
    "import heapq\n",
    "\n",
    "t = [\n",
    "    [1, 'c'],\n",
    "    [3, 'z'],\n",
    "    [3,'a']    \n",
    "]\n",
    "heapq.heapify(t)\n",
    "print(t)\n",
    "print(len(t))\n",
    "for _ in range(len(t)):\n",
    "    print(heapq.heappop(t))\n"
   ]
  },
  {
   "cell_type": "code",
   "execution_count": 21,
   "metadata": {},
   "outputs": [],
   "source": [
    "graph = {\n",
    "    'A': {'B': 8, 'C': 1, 'D': 2},\n",
    "    'B': {},\n",
    "    'C': {'B': 5, 'D': 2},\n",
    "    'D': {'E': 3, 'F': 5},\n",
    "    'E': {'F': 1},\n",
    "    'F': {'A': 5}\n",
    "}"
   ]
  },
  {
   "cell_type": "code",
   "execution_count": null,
   "metadata": {},
   "outputs": [],
   "source": [
    "def dijkstra_reivew(graph, start):\n",
    "       \n",
    "\n",
    "    return 0"
   ]
  },
  {
   "cell_type": "markdown",
   "metadata": {},
   "source": [
    "- - -"
   ]
  },
  {
   "cell_type": "markdown",
   "metadata": {},
   "source": [
    "### python 문자열 치환"
   ]
  },
  {
   "cell_type": "code",
   "execution_count": 17,
   "metadata": {},
   "outputs": [],
   "source": [
    "def solution(s):\n",
    "    words = {\n",
    "        'zero' : 0,\n",
    "        'one' : 1,\n",
    "        'two' : 2,\n",
    "        'three' : 3,\n",
    "        'four' : 4,\n",
    "        'five' : 5,\n",
    "        'six' : 6,\n",
    "        'seven' : 7,\n",
    "        'eight' : 8,\n",
    "        'nine' : 9\n",
    "    }\n",
    "\n",
    "    for k, v in words.items():\n",
    "        s = s.replace(k, str(v))\n",
    "    \n",
    "    return int(s)"
   ]
  },
  {
   "cell_type": "code",
   "execution_count": 18,
   "metadata": {},
   "outputs": [
    {
     "data": {
      "text/plain": [
       "1478"
      ]
     },
     "execution_count": 18,
     "metadata": {},
     "output_type": "execute_result"
    }
   ],
   "source": [
    "solution(\"one4seveneight\")"
   ]
  },
  {
   "cell_type": "code",
   "execution_count": 14,
   "metadata": {},
   "outputs": [],
   "source": [
    "s = \"one4seveneight\""
   ]
  },
  {
   "cell_type": "code",
   "execution_count": 16,
   "metadata": {},
   "outputs": [
    {
     "data": {
      "text/plain": [
       "'14seveneight'"
      ]
     },
     "execution_count": 16,
     "metadata": {},
     "output_type": "execute_result"
    }
   ],
   "source": [
    "s = s.replace('one', \"1\")\n",
    "s"
   ]
  },
  {
   "cell_type": "markdown",
   "metadata": {},
   "source": [
    "---"
   ]
  },
  {
   "cell_type": "markdown",
   "metadata": {},
   "source": [
    "### 문제 설명\n",
    "n개의 노드가 있는 그래프가 있습니다. 각 노드는 1부터 n까지 번호가 적혀있습니다. 1번 노드에서 가장 멀리 떨어진 노드의 갯수를 구하려고 합니다. 가장 멀리 떨어진 노드란 최단경로로 이동했을 때 간선의 개수가 가장 많은 노드들을 의미합니다.\n",
    "\n",
    "노드의 개수 n, 간선에 대한 정보가 담긴 2차원 배열 vertex가 매개변수로 주어질 때, 1번 노드로부터 가장 멀리 떨어진 노드가 몇 개인지를 return 하도록 solution 함수를 작성해주세요.\n",
    "\n",
    "### 입출력 예\n",
    "\n",
    "|n|vertex|return|\n",
    "|---|---|---|\n",
    "|6|[[3, 6], [4, 3], [3, 2], [1, 3], [1, 2], [2, 4], [5, 2]]|3\n"
   ]
  },
  {
   "cell_type": "code",
   "execution_count": 35,
   "metadata": {},
   "outputs": [],
   "source": [
    "from collections import defaultdict\n",
    "from collections import deque\n",
    "\n",
    "def solution(n, edge):\n",
    "    # n : 노드의 개수\n",
    "    graph = defaultdict(list)\n",
    "\n",
    "    for node in edge:\n",
    "        start, end = node[0], node[1]\n",
    "        graph[start] += [end]\n",
    "        graph[end] += [start]\n",
    "\n",
    "    visited = [0] * (n + 1)\n",
    "    visited[1] = 1\n",
    "    \n",
    "    q = deque()\n",
    "    q_list = []\n",
    "    for num in graph[1]:\n",
    "        # num = 3, 2\n",
    "        q_list.append((1, num))\n",
    "    q.append(q_list)\n",
    "\n",
    "    while q:\n",
    "        nodes = q.popleft() # nodes = [(1,3), (1,2)]\n",
    "        for node in nodes:\n",
    "            # node = (1, 3)\n",
    "            start, end = node[0], node[1]\n",
    "            if visited[end] == 0 :\n",
    "                visited[end] = visited[start] + 1\n",
    "                q_list = []\n",
    "                for num in graph[end]:\n",
    "                    q_list.append((end, num))\n",
    "                q.append(q_list)\n",
    "    \n",
    "    top = max(visited)\n",
    "    count = visited.count(top)\n",
    "    return count"
   ]
  },
  {
   "cell_type": "code",
   "execution_count": 36,
   "metadata": {},
   "outputs": [
    {
     "data": {
      "text/plain": [
       "3"
      ]
     },
     "execution_count": 36,
     "metadata": {},
     "output_type": "execute_result"
    }
   ],
   "source": [
    "solution(6,[[3, 6], [4, 3], [3, 2], [1, 3], [1, 2], [2, 4], [5, 2]])"
   ]
  },
  {
   "cell_type": "code",
   "execution_count": 10,
   "metadata": {},
   "outputs": [],
   "source": [
    "q_list = []\n",
    "for num in [3, 2]:\n",
    "    # num = 3, 2\n",
    "    q_list.append((1, num))\n",
    "print(q)"
   ]
  },
  {
   "cell_type": "code",
   "execution_count": null,
   "metadata": {},
   "outputs": [],
   "source": []
  }
 ],
 "metadata": {
  "interpreter": {
   "hash": "be805ae34670cdb3c948a255e52b4c6cf927efb8c3bd1571b8421aaa53085dfe"
  },
  "kernelspec": {
   "display_name": "Python 3.9.7 ('base')",
   "language": "python",
   "name": "python3"
  },
  "language_info": {
   "codemirror_mode": {
    "name": "ipython",
    "version": 3
   },
   "file_extension": ".py",
   "mimetype": "text/x-python",
   "name": "python",
   "nbconvert_exporter": "python",
   "pygments_lexer": "ipython3",
   "version": "3.9.7"
  },
  "orig_nbformat": 4
 },
 "nbformat": 4,
 "nbformat_minor": 2
}
