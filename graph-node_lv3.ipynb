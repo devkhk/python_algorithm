{
 "cells": [
  {
   "cell_type": "markdown",
   "metadata": {},
   "source": [
    "### 문제 설명\n",
    "n개의 노드가 있는 그래프가 있습니다. 각 노드는 1부터 n까지 번호가 적혀있습니다. 1번 노드에서 가장 멀리 떨어진 노드의 갯수를 구하려고 합니다. 가장 멀리 떨어진 노드란 최단경로로 이동했을 때 간선의 개수가 가장 많은 노드들을 의미합니다.\n",
    "\n",
    "노드의 개수 n, 간선에 대한 정보가 담긴 2차원 배열 vertex가 매개변수로 주어질 때, 1번 노드로부터 가장 멀리 떨어진 노드가 몇 개인지를 return 하도록 solution 함수를 작성해주세요.\n",
    "\n",
    "### 입출력 예\n",
    "\n",
    "|n|vertex|return|\n",
    "|---|---|---|\n",
    "|6|[[3, 6], [4, 3], [3, 2], [1, 3], [1, 2], [2, 4], [5, 2]]|3"
   ]
  },
  {
   "cell_type": "code",
   "execution_count": 7,
   "metadata": {},
   "outputs": [],
   "source": [
    "n = 6\n",
    "edge = [[3, 6], [4, 3], [3, 2], [1, 3], [1, 2], [2, 4], [5, 2]]"
   ]
  },
  {
   "cell_type": "code",
   "execution_count": 34,
   "metadata": {},
   "outputs": [],
   "source": [
    "from collections import defaultdict\n",
    "import heapq\n",
    "def solution(n, edge):\n",
    "    answer = 0\n",
    "    distance = [float('inf')] * (n+1)\n",
    "    queue = []\n",
    "    heapq.heappush(queue, [])\n",
    "\n",
    "    close_dict = defaultdict(list)\n",
    "    # 인접 리스트\n",
    "    for e in edge:\n",
    "        close_dict[e[0]] += [e[1]] \n",
    "        close_dict[e[1]] += [e[0]]\n",
    "\n",
    "    # 리스트 정렬\n",
    "    close_dict = {k:sorted(ls) for k, ls in close_dict.items()}\n",
    "    print(close_dict)\n",
    "\n",
    "    start_list = close_dict[1]\n",
    "    \n",
    "\n",
    "\n",
    "    return distance"
   ]
  },
  {
   "cell_type": "code",
   "execution_count": 33,
   "metadata": {},
   "outputs": [
    {
     "name": "stdout",
     "output_type": "stream",
     "text": [
      "{3: [1, 2, 4, 6], 6: [3], 4: [2, 3], 2: [1, 3, 4, 5], 1: [2, 3], 5: [2]}\n"
     ]
    },
    {
     "data": {
      "text/plain": [
       "[inf, inf, 1, 1, inf, inf, inf]"
      ]
     },
     "execution_count": 33,
     "metadata": {},
     "output_type": "execute_result"
    }
   ],
   "source": [
    "solution(n, edge)"
   ]
  },
  {
   "cell_type": "code",
   "execution_count": 35,
   "metadata": {},
   "outputs": [],
   "source": [
    "graph = {\n",
    "    'A': {'B': 8, 'C': 1, 'D': 2},\n",
    "    'B': {},\n",
    "    'C': {'B': 5, 'D': 2},\n",
    "    'D': {'E': 3, 'F': 5},\n",
    "    'E': {'F': 1},\n",
    "    'F': {'A': 5}\n",
    "}"
   ]
  },
  {
   "cell_type": "code",
   "execution_count": 41,
   "metadata": {},
   "outputs": [
    {
     "name": "stdout",
     "output_type": "stream",
     "text": [
      "distance :  {'A': 0, 'B': inf, 'C': inf, 'D': inf, 'E': inf, 'F': inf}\n"
     ]
    }
   ],
   "source": [
    "start = 'A'\n",
    "distances = {node: float('inf') for node in graph}  # start로 부터의 거리 값을 저장하기 위함\n",
    "distances[start] = 0  # 시작 값은 0이어야 함\n",
    "queue = []\n",
    "heapq.heappush(queue, [distances[start], start])  # 시작 노드부터 탐색 시작 하기 위함.\n",
    "\n",
    "print(\"distance : \",distances)\n"
   ]
  },
  {
   "cell_type": "code",
   "execution_count": 58,
   "metadata": {},
   "outputs": [],
   "source": [
    "def dijkstra(graph, start):\n",
    "    distances = {node: float('inf') for node in graph}  # start로 부터의 거리 값을 저장하기 위함\n",
    "    distances[start] = 0  # 시작 값은 0이어야 함\n",
    "    queue = []\n",
    "    heapq.heappush(queue, [distances[start], start])  # 시작 노드부터 탐색 시작 하기 위함.\n",
    "\n",
    "    print(\"distance : \",distances)\n",
    "\n",
    "    while queue:\n",
    "        current_distance, current_destination = heapq.heappop(queue) # 탐색 할 노드, 거리를 가져옴.\n",
    "        print(f\"current_distance : {current_distance}, current_destination : {current_destination}\")\n",
    "        if distances[current_destination] < current_distance:        # 기존에 있는 거리보다 길다면, 아래 코드 진행 의미 X\n",
    "            continue\n",
    "        \n",
    "        for new_destination, new_distance in graph[current_destination].items():\n",
    "            # B, 8\n",
    "            distance = current_distance + new_distance\n",
    "            if distance < distances[new_destination]:\n",
    "                distances[new_destination] = distance\n",
    "                print(\"distance : \",distances)\n",
    "                heapq.heappush(queue ,[distance, new_destination]) # 다음 인접 거리를 계산 하기 위해 큐에 삽입\n",
    "                print(queue)\n",
    "    return distances\n"
   ]
  },
  {
   "cell_type": "code",
   "execution_count": 59,
   "metadata": {},
   "outputs": [
    {
     "name": "stdout",
     "output_type": "stream",
     "text": [
      "distance :  {'A': 0, 'B': inf, 'C': inf, 'D': inf, 'E': inf, 'F': inf}\n",
      "current_distance : 0, current_destination : A\n",
      "distance :  {'A': 0, 'B': 8, 'C': inf, 'D': inf, 'E': inf, 'F': inf}\n",
      "[[8, 'B']]\n",
      "distance :  {'A': 0, 'B': 8, 'C': 1, 'D': inf, 'E': inf, 'F': inf}\n",
      "[[1, 'C'], [8, 'B']]\n",
      "distance :  {'A': 0, 'B': 8, 'C': 1, 'D': 2, 'E': inf, 'F': inf}\n",
      "[[1, 'C'], [8, 'B'], [2, 'D']]\n",
      "current_distance : 1, current_destination : C\n",
      "distance :  {'A': 0, 'B': 6, 'C': 1, 'D': 2, 'E': inf, 'F': inf}\n",
      "[[2, 'D'], [8, 'B'], [6, 'B']]\n",
      "current_distance : 2, current_destination : D\n",
      "distance :  {'A': 0, 'B': 6, 'C': 1, 'D': 2, 'E': 5, 'F': inf}\n",
      "[[5, 'E'], [8, 'B'], [6, 'B']]\n",
      "distance :  {'A': 0, 'B': 6, 'C': 1, 'D': 2, 'E': 5, 'F': 7}\n",
      "[[5, 'E'], [7, 'F'], [6, 'B'], [8, 'B']]\n",
      "current_distance : 5, current_destination : E\n",
      "distance :  {'A': 0, 'B': 6, 'C': 1, 'D': 2, 'E': 5, 'F': 6}\n",
      "[[6, 'B'], [6, 'F'], [8, 'B'], [7, 'F']]\n",
      "current_distance : 6, current_destination : B\n",
      "current_distance : 6, current_destination : F\n",
      "current_distance : 7, current_destination : F\n",
      "current_distance : 8, current_destination : B\n"
     ]
    },
    {
     "data": {
      "text/plain": [
       "{'A': 0, 'B': 6, 'C': 1, 'D': 2, 'E': 5, 'F': 6}"
      ]
     },
     "execution_count": 59,
     "metadata": {},
     "output_type": "execute_result"
    }
   ],
   "source": [
    "dijkstra(graph, 'A')"
   ]
  },
  {
   "cell_type": "code",
   "execution_count": 56,
   "metadata": {},
   "outputs": [
    {
     "name": "stdout",
     "output_type": "stream",
     "text": [
      "[1, 3, 6, 10, 9, 8]\n",
      "1\n",
      "3\n",
      "6\n",
      "8\n",
      "9\n",
      "10\n"
     ]
    }
   ],
   "source": [
    "# heapq 는 보통 최소 힙으로 이용\n",
    "h = []\n",
    "heapq.heappush(h, 3)\n",
    "heapq.heappush(h, 1)\n",
    "heapq.heappush(h, 8)\n",
    "heapq.heappush(h, 10)\n",
    "heapq.heappush(h, 9)\n",
    "heapq.heappush(h, 6)\n",
    "\n",
    "print(h)\n",
    "for _ in range(6):\n",
    "    print(heapq.heappop(h))"
   ]
  },
  {
   "cell_type": "code",
   "execution_count": 57,
   "metadata": {},
   "outputs": [
    {
     "name": "stdout",
     "output_type": "stream",
     "text": [
      "9\n",
      "8\n",
      "7\n",
      "5\n",
      "3\n",
      "1\n"
     ]
    }
   ],
   "source": [
    "# heapq 최대 힙 => 데이터에 마이너스 처리를 해야함\n",
    "h = []\n",
    "heapq.heappush(h, -3)\t\n",
    "heapq.heappush(h, -9)\t\n",
    "heapq.heappush(h, -7)\t# 원래 넣으려는 값에 -를 붙여준다.\n",
    "heapq.heappush(h, -8)\t\n",
    "heapq.heappush(h, -5)\n",
    "heapq.heappush(h, -1)\n",
    "\n",
    "for _ in range(6):\n",
    "    print(-heapq.heappop(h)) # 출력시에도 -을 붙여준다."
   ]
  },
  {
   "cell_type": "code",
   "execution_count": 83,
   "metadata": {},
   "outputs": [
    {
     "name": "stdout",
     "output_type": "stream",
     "text": [
      "['a', 3]\n",
      "['c', 1]\n",
      "['z', 2]\n",
      "- - - - - - - - - - - - - - - - - - - - \n",
      "[1, 'c']\n",
      "[2, 'z']\n",
      "[3, 'a']\n"
     ]
    }
   ],
   "source": [
    "h = [3, 9, 1, 4, 2]\n",
    "h = [\n",
    "    ['c', 1],\n",
    "    ['a', 3],\n",
    "    ['z',2]\n",
    "]\n",
    "t = [\n",
    "    [1, 'c'],\n",
    "    [3, 'a'],\n",
    "    [2,'z']    \n",
    "]\n",
    "heapq.heapify(h)\t# 파라미터로 list 객체를 받는다.\n",
    "heapq.heapify(t)\n",
    "\n",
    "for _ in range(3):\n",
    "    print(heapq.heappop(h))\t# 작은 값부터 출력된다.\n",
    "print(\"- \"*20)\n",
    "for _ in range(3):\n",
    "    print(heapq.heappop(t))\t# 작은 값부터 출력된다."
   ]
  },
  {
   "cell_type": "code",
   "execution_count": 98,
   "metadata": {},
   "outputs": [],
   "source": [
    "from collections import deque\n",
    "a = [1, 2, 3]\n",
    "\n",
    "ab = deque(a)\n",
    "ab.append(5)\n",
    "ab.appendleft(0)\n",
    "ab.rotate()"
   ]
  },
  {
   "cell_type": "code",
   "execution_count": 100,
   "metadata": {},
   "outputs": [
    {
     "data": {
      "text/plain": [
       "deque([3, 5, 0, 1, 2])"
      ]
     },
     "execution_count": 100,
     "metadata": {},
     "output_type": "execute_result"
    }
   ],
   "source": [
    "ab.rotate()\n",
    "ab"
   ]
  },
  {
   "cell_type": "code",
   "execution_count": null,
   "metadata": {},
   "outputs": [],
   "source": []
  }
 ],
 "metadata": {
  "interpreter": {
   "hash": "be805ae34670cdb3c948a255e52b4c6cf927efb8c3bd1571b8421aaa53085dfe"
  },
  "kernelspec": {
   "display_name": "Python 3.9.7 ('base')",
   "language": "python",
   "name": "python3"
  },
  "language_info": {
   "codemirror_mode": {
    "name": "ipython",
    "version": 3
   },
   "file_extension": ".py",
   "mimetype": "text/x-python",
   "name": "python",
   "nbconvert_exporter": "python",
   "pygments_lexer": "ipython3",
   "version": "3.9.7"
  },
  "orig_nbformat": 4
 },
 "nbformat": 4,
 "nbformat_minor": 2
}
